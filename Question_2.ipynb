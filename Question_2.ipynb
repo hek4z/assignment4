{
 "cells": [
  {
   "cell_type": "markdown",
   "metadata": {},
   "source": [
    "# Question 2"
   ]
  },
  {
   "cell_type": "code",
   "execution_count": 1,
   "metadata": {},
   "outputs": [],
   "source": [
    "import pandas as pd\n",
    "import numpy as np\n",
    "import seaborn as sns\n",
    "import matplotlib.pyplot as plt"
   ]
  },
  {
   "cell_type": "markdown",
   "metadata": {},
   "source": [
    "## Part 1"
   ]
  },
  {
   "cell_type": "code",
   "execution_count": 144,
   "metadata": {},
   "outputs": [
    {
     "name": "stdout",
     "output_type": "stream",
     "text": [
      "Unnamed: 0      int64\n",
      "Rating        float64\n",
      "Size           object\n",
      "Sector         object\n",
      "avg_salary    float64\n",
      "job_state      object\n",
      "dtype: object\n"
     ]
    }
   ],
   "source": [
    "## Load the wages csv\n",
    "\n",
    "df = pd.read_csv('./data/wages_hw.csv')\n",
    "print(df.dtypes) "
   ]
  },
  {
   "cell_type": "code",
   "execution_count": 145,
   "metadata": {},
   "outputs": [
    {
     "name": "stdout",
     "output_type": "stream",
     "text": [
      "(731, 6) \n",
      "\n",
      "Unnamed: 0      int64\n",
      "Rating        float64\n",
      "Size           object\n",
      "Sector         object\n",
      "avg_salary    float64\n",
      "job_state      object\n",
      "dtype: object \n",
      "\n",
      "Index(['Rating', 'Size', 'Sector', 'avg_salary'], dtype='object') \n",
      "\n"
     ]
    }
   ],
   "source": [
    "print(df.shape, '\\n') # List the dimensions of df\n",
    "print(df.dtypes, '\\n') # The types of the variables; `object` is a bad sign\n",
    "print(df.columns[1:5], '\\n') # First five column names"
   ]
  },
  {
   "cell_type": "code",
   "execution_count": 146,
   "metadata": {},
   "outputs": [
    {
     "data": {
      "text/html": [
       "<div>\n",
       "<style scoped>\n",
       "    .dataframe tbody tr th:only-of-type {\n",
       "        vertical-align: middle;\n",
       "    }\n",
       "\n",
       "    .dataframe tbody tr th {\n",
       "        vertical-align: top;\n",
       "    }\n",
       "\n",
       "    .dataframe thead th {\n",
       "        text-align: right;\n",
       "    }\n",
       "</style>\n",
       "<table border=\"1\" class=\"dataframe\">\n",
       "  <thead>\n",
       "    <tr style=\"text-align: right;\">\n",
       "      <th></th>\n",
       "      <th>Unnamed: 0</th>\n",
       "      <th>Rating</th>\n",
       "      <th>Size</th>\n",
       "      <th>Sector</th>\n",
       "      <th>avg_salary</th>\n",
       "      <th>job_state</th>\n",
       "    </tr>\n",
       "  </thead>\n",
       "  <tbody>\n",
       "    <tr>\n",
       "      <th>0</th>\n",
       "      <td>1</td>\n",
       "      <td>3.8</td>\n",
       "      <td>501 to 1000 employees</td>\n",
       "      <td>Aerospace &amp; Defense</td>\n",
       "      <td>72.0</td>\n",
       "      <td>NM</td>\n",
       "    </tr>\n",
       "    <tr>\n",
       "      <th>1</th>\n",
       "      <td>2</td>\n",
       "      <td>3.4</td>\n",
       "      <td>10000+ employees</td>\n",
       "      <td>Health Care</td>\n",
       "      <td>87.5</td>\n",
       "      <td>MD</td>\n",
       "    </tr>\n",
       "    <tr>\n",
       "      <th>2</th>\n",
       "      <td>3</td>\n",
       "      <td>4.8</td>\n",
       "      <td>501 to 1000 employees</td>\n",
       "      <td>Business Services</td>\n",
       "      <td>85.0</td>\n",
       "      <td>FL</td>\n",
       "    </tr>\n",
       "    <tr>\n",
       "      <th>3</th>\n",
       "      <td>4</td>\n",
       "      <td>3.8</td>\n",
       "      <td>1001 to 5000 employees</td>\n",
       "      <td>Oil, Gas, Energy &amp; Utilities</td>\n",
       "      <td>76.5</td>\n",
       "      <td>WA</td>\n",
       "    </tr>\n",
       "    <tr>\n",
       "      <th>4</th>\n",
       "      <td>5</td>\n",
       "      <td>2.9</td>\n",
       "      <td>51 to 200 employees</td>\n",
       "      <td>Business Services</td>\n",
       "      <td>114.5</td>\n",
       "      <td>NY</td>\n",
       "    </tr>\n",
       "  </tbody>\n",
       "</table>\n",
       "</div>"
      ],
      "text/plain": [
       "   Unnamed: 0  Rating                    Size                        Sector  \\\n",
       "0           1     3.8   501 to 1000 employees           Aerospace & Defense   \n",
       "1           2     3.4        10000+ employees                   Health Care   \n",
       "2           3     4.8   501 to 1000 employees             Business Services   \n",
       "3           4     3.8  1001 to 5000 employees  Oil, Gas, Energy & Utilities   \n",
       "4           5     2.9     51 to 200 employees             Business Services   \n",
       "\n",
       "   avg_salary job_state  \n",
       "0        72.0        NM  \n",
       "1        87.5        MD  \n",
       "2        85.0        FL  \n",
       "3        76.5        WA  \n",
       "4       114.5        NY  "
      ]
     },
     "execution_count": 146,
     "metadata": {},
     "output_type": "execute_result"
    }
   ],
   "source": [
    "df.head()"
   ]
  },
  {
   "cell_type": "code",
   "execution_count": 147,
   "metadata": {},
   "outputs": [
    {
     "data": {
      "text/html": [
       "<div>\n",
       "<style scoped>\n",
       "    .dataframe tbody tr th:only-of-type {\n",
       "        vertical-align: middle;\n",
       "    }\n",
       "\n",
       "    .dataframe tbody tr th {\n",
       "        vertical-align: top;\n",
       "    }\n",
       "\n",
       "    .dataframe thead th {\n",
       "        text-align: right;\n",
       "    }\n",
       "</style>\n",
       "<table border=\"1\" class=\"dataframe\">\n",
       "  <thead>\n",
       "    <tr style=\"text-align: right;\">\n",
       "      <th></th>\n",
       "      <th>Unnamed: 0</th>\n",
       "      <th>Rating</th>\n",
       "      <th>Size</th>\n",
       "      <th>Sector</th>\n",
       "      <th>avg_salary</th>\n",
       "      <th>job_state</th>\n",
       "    </tr>\n",
       "  </thead>\n",
       "  <tbody>\n",
       "    <tr>\n",
       "      <th>726</th>\n",
       "      <td>738</td>\n",
       "      <td>3.9</td>\n",
       "      <td>10000+ employees</td>\n",
       "      <td>Biotech &amp; Pharmaceuticals</td>\n",
       "      <td>84.5</td>\n",
       "      <td>MA</td>\n",
       "    </tr>\n",
       "    <tr>\n",
       "      <th>727</th>\n",
       "      <td>739</td>\n",
       "      <td>4.4</td>\n",
       "      <td>1001 to 5000 employees</td>\n",
       "      <td>Information Technology</td>\n",
       "      <td>102.5</td>\n",
       "      <td>TN</td>\n",
       "    </tr>\n",
       "    <tr>\n",
       "      <th>728</th>\n",
       "      <td>740</td>\n",
       "      <td>2.6</td>\n",
       "      <td>501 to 1000 employees</td>\n",
       "      <td>Education</td>\n",
       "      <td>73.5</td>\n",
       "      <td>PA</td>\n",
       "    </tr>\n",
       "    <tr>\n",
       "      <th>729</th>\n",
       "      <td>741</td>\n",
       "      <td>3.2</td>\n",
       "      <td>1 to 50 employees</td>\n",
       "      <td>Business Services</td>\n",
       "      <td>127.5</td>\n",
       "      <td>PA</td>\n",
       "    </tr>\n",
       "    <tr>\n",
       "      <th>730</th>\n",
       "      <td>742</td>\n",
       "      <td>3.6</td>\n",
       "      <td>501 to 1000 employees</td>\n",
       "      <td>Government</td>\n",
       "      <td>93.5</td>\n",
       "      <td>OH</td>\n",
       "    </tr>\n",
       "  </tbody>\n",
       "</table>\n",
       "</div>"
      ],
      "text/plain": [
       "     Unnamed: 0  Rating                    Size                     Sector  \\\n",
       "726         738     3.9        10000+ employees  Biotech & Pharmaceuticals   \n",
       "727         739     4.4  1001 to 5000 employees     Information Technology   \n",
       "728         740     2.6   501 to 1000 employees                  Education   \n",
       "729         741     3.2       1 to 50 employees          Business Services   \n",
       "730         742     3.6   501 to 1000 employees                 Government   \n",
       "\n",
       "     avg_salary job_state  \n",
       "726        84.5        MA  \n",
       "727       102.5        TN  \n",
       "728        73.5        PA  \n",
       "729       127.5        PA  \n",
       "730        93.5        OH  "
      ]
     },
     "execution_count": 147,
     "metadata": {},
     "output_type": "execute_result"
    }
   ],
   "source": [
    "df.tail()"
   ]
  },
  {
   "cell_type": "code",
   "execution_count": 148,
   "metadata": {},
   "outputs": [],
   "source": [
    "cdf = df.copy()"
   ]
  },
  {
   "cell_type": "code",
   "execution_count": 149,
   "metadata": {},
   "outputs": [],
   "source": [
    "## Cleaning the data, outliers, missings"
   ]
  },
  {
   "cell_type": "code",
   "execution_count": 150,
   "metadata": {},
   "outputs": [
    {
     "data": {
      "text/plain": [
       "<AxesSubplot:>"
      ]
     },
     "execution_count": 150,
     "metadata": {},
     "output_type": "execute_result"
    },
    {
     "data": {
      "image/png": "[encoded data removed]",
      "text/plain": [
       "<Figure size 432x288 with 1 Axes>"
      ]
     },
     "metadata": {
      "needs_background": "light"
     },
     "output_type": "display_data"
    }
   ],
   "source": [
    "cdf['avg_salary'].plot.box() # outliers above 200 "
   ]
  },
  {
   "cell_type": "code",
   "execution_count": 151,
   "metadata": {},
   "outputs": [
    {
     "data": {
      "text/plain": [
       "<AxesSubplot:>"
      ]
     },
     "execution_count": 151,
     "metadata": {},
     "output_type": "execute_result"
    },
    {
     "data": {
      "image/png": "[encoded data removed]",
      "text/plain": [
       "<Figure size 432x288 with 1 Axes>"
      ]
     },
     "metadata": {
      "needs_background": "light"
     },
     "output_type": "display_data"
    }
   ],
   "source": [
    "cdf = cdf.loc[cdf['avg_salary']<180,:]\n",
    "cdf['avg_salary'].plot.box()"
   ]
  },
  {
   "cell_type": "code",
   "execution_count": 152,
   "metadata": {},
   "outputs": [
    {
     "data": {
      "text/plain": [
       "<AxesSubplot:>"
      ]
     },
     "execution_count": 152,
     "metadata": {},
     "output_type": "execute_result"
    },
    {
     "data": {
      "image/png": "[encoded data removed]",
      "text/plain": [
       "<Figure size 432x288 with 1 Axes>"
      ]
     },
     "metadata": {
      "needs_background": "light"
     },
     "output_type": "display_data"
    }
   ],
   "source": [
    "df['Rating'].plot.box()"
   ]
  },
  {
   "cell_type": "code",
   "execution_count": 153,
   "metadata": {},
   "outputs": [
    {
     "data": {
      "text/plain": [
       "<AxesSubplot:>"
      ]
     },
     "execution_count": 153,
     "metadata": {},
     "output_type": "execute_result"
    },
    {
     "data": {
      "image/png": "[encoded data removed]",
      "text/plain": [
       "<Figure size 432x288 with 1 Axes>"
      ]
     },
     "metadata": {
      "needs_background": "light"
     },
     "output_type": "display_data"
    }
   ],
   "source": [
    "cdf = cdf.loc[cdf['Rating']>2.5,:]\n",
    "cdf = cdf.loc[cdf['Rating']<4.75,:]\n",
    "cdf['Rating'].plot.box()"
   ]
  },
  {
   "cell_type": "code",
   "execution_count": 154,
   "metadata": {},
   "outputs": [
    {
     "name": "stdout",
     "output_type": "stream",
     "text": [
      "Unnamed: 0 Done\n",
      "Rating Done\n",
      "Size Done\n",
      "Sector Done\n",
      "avg_salary Done\n",
      "job_state Done\n"
     ]
    }
   ],
   "source": [
    "columns = ['Unnamed: 0','Rating','Size','Sector','avg_salary','job_state']\n",
    "\n",
    "for thing in columns: \n",
    "    is_na = cdf[thing].isna()\n",
    "    \n",
    "    # Print the result\n",
    "    for i in is_na: \n",
    "        if i == True: \n",
    "            print(is_na)\n",
    "        else: \n",
    "            continue\n",
    "    print(thing, 'Done')\n",
    "\n",
    "## There seem to be no NAns in the dataset"
   ]
  },
  {
   "cell_type": "code",
   "execution_count": 155,
   "metadata": {},
   "outputs": [
    {
     "data": {
      "text/plain": [
       "<AxesSubplot:xlabel='Sector', ylabel='avg_salary'>"
      ]
     },
     "execution_count": 155,
     "metadata": {},
     "output_type": "execute_result"
    },
    {
     "data": {
      "image/png": "[encoded data removed]",
      "text/plain": [
       "<Figure size 432x288 with 1 Axes>"
      ]
     },
     "metadata": {
      "needs_background": "light"
     },
     "output_type": "display_data"
    }
   ],
   "source": [
    "sns.scatterplot(data=cdf,y='avg_salary',x='Sector')"
   ]
  },
  {
   "cell_type": "code",
   "execution_count": 156,
   "metadata": {},
   "outputs": [],
   "source": [
    "## Cleaning the data, outliers, missings"
   ]
  },
  {
   "cell_type": "code",
   "execution_count": 157,
   "metadata": {},
   "outputs": [
    {
     "name": "stdout",
     "output_type": "stream",
     "text": [
      "(540, 2)\n",
      "(136, 2)\n"
     ]
    }
   ],
   "source": [
    "## Split the data into a training and testing data\n",
    "\n",
    "from sklearn.preprocessing import MinMaxScaler\n",
    "from sklearn.model_selection import train_test_split\n",
    "\n",
    "# Assuming maxmin is MinMaxScaler\n",
    "scaler = MinMaxScaler()\n",
    "\n",
    "# Extracting numeric columns for normalization\n",
    "X = cdf.iloc[:,[1, 4]] \n",
    "# this is already indexing into cdf to get the numeric variables, so we don't have to indicate that below\n",
    "\n",
    "# Normalize numeric columns in X\n",
    "X_normalized = scaler.fit_transform(X)\n",
    "\n",
    "# Assuming you have a target variable named 'y'\n",
    "y = cdf['avg_salary']  \n",
    "\n",
    "# Split the sample\n",
    "X_train, X_test, y_train, y_test = train_test_split(X_normalized, y, test_size=0.2, random_state=100)\n",
    "\n",
    "# part of this code came from chat gpt to help me split the data\n",
    "\n",
    "print(X_train.shape)\n",
    "print(X_test.shape)"
   ]
  },
  {
   "cell_type": "code",
   "execution_count": 158,
   "metadata": {},
   "outputs": [
    {
     "data": {
      "text/html": [
       "<div>\n",
       "<style scoped>\n",
       "    .dataframe tbody tr th:only-of-type {\n",
       "        vertical-align: middle;\n",
       "    }\n",
       "\n",
       "    .dataframe tbody tr th {\n",
       "        vertical-align: top;\n",
       "    }\n",
       "\n",
       "    .dataframe thead th {\n",
       "        text-align: right;\n",
       "    }\n",
       "</style>\n",
       "<table border=\"1\" class=\"dataframe\">\n",
       "  <thead>\n",
       "    <tr style=\"text-align: right;\">\n",
       "      <th></th>\n",
       "      <th>Unnamed: 0</th>\n",
       "      <th>Rating</th>\n",
       "      <th>Size</th>\n",
       "      <th>Sector</th>\n",
       "      <th>avg_salary</th>\n",
       "      <th>job_state</th>\n",
       "    </tr>\n",
       "  </thead>\n",
       "  <tbody>\n",
       "    <tr>\n",
       "      <th>0</th>\n",
       "      <td>1</td>\n",
       "      <td>3.8</td>\n",
       "      <td>501 to 1000 employees</td>\n",
       "      <td>Aerospace &amp; Defense</td>\n",
       "      <td>72.0</td>\n",
       "      <td>NM</td>\n",
       "    </tr>\n",
       "    <tr>\n",
       "      <th>1</th>\n",
       "      <td>2</td>\n",
       "      <td>3.4</td>\n",
       "      <td>10000+ employees</td>\n",
       "      <td>Health Care</td>\n",
       "      <td>87.5</td>\n",
       "      <td>MD</td>\n",
       "    </tr>\n",
       "    <tr>\n",
       "      <th>3</th>\n",
       "      <td>4</td>\n",
       "      <td>3.8</td>\n",
       "      <td>1001 to 5000 employees</td>\n",
       "      <td>Oil, Gas, Energy &amp; Utilities</td>\n",
       "      <td>76.5</td>\n",
       "      <td>WA</td>\n",
       "    </tr>\n",
       "    <tr>\n",
       "      <th>4</th>\n",
       "      <td>5</td>\n",
       "      <td>2.9</td>\n",
       "      <td>51 to 200 employees</td>\n",
       "      <td>Business Services</td>\n",
       "      <td>114.5</td>\n",
       "      <td>NY</td>\n",
       "    </tr>\n",
       "    <tr>\n",
       "      <th>5</th>\n",
       "      <td>6</td>\n",
       "      <td>3.4</td>\n",
       "      <td>201 to 500 employees</td>\n",
       "      <td>Real Estate</td>\n",
       "      <td>95.0</td>\n",
       "      <td>TX</td>\n",
       "    </tr>\n",
       "  </tbody>\n",
       "</table>\n",
       "</div>"
      ],
      "text/plain": [
       "   Unnamed: 0  Rating                    Size                        Sector  \\\n",
       "0           1     3.8   501 to 1000 employees           Aerospace & Defense   \n",
       "1           2     3.4        10000+ employees                   Health Care   \n",
       "3           4     3.8  1001 to 5000 employees  Oil, Gas, Energy & Utilities   \n",
       "4           5     2.9     51 to 200 employees             Business Services   \n",
       "5           6     3.4    201 to 500 employees                   Real Estate   \n",
       "\n",
       "   avg_salary job_state  \n",
       "0        72.0        NM  \n",
       "1        87.5        MD  \n",
       "3        76.5        WA  \n",
       "4       114.5        NY  \n",
       "5        95.0        TX  "
      ]
     },
     "execution_count": 158,
     "metadata": {},
     "output_type": "execute_result"
    }
   ],
   "source": [
    "cdf.head()"
   ]
  },
  {
   "cell_type": "code",
   "execution_count": 159,
   "metadata": {},
   "outputs": [
    {
     "name": "stdout",
     "output_type": "stream",
     "text": [
      "[[0 0 0 ... 0 1 0]\n",
      " [0 1 0 ... 0 0 0]\n",
      " [0 0 1 ... 0 0 0]\n",
      " ...\n",
      " [0 0 0 ... 0 1 0]\n",
      " [1 0 0 ... 0 0 0]\n",
      " [0 0 0 ... 0 1 0]]\n",
      "['1 to 50 employees' '10000+ employees' '1001 to 5000 employees'\n",
      " '201 to 500 employees' '5001 to 10000 employees' '501 to 1000 employees'\n",
      " '51 to 200 employees']\n",
      "[[0 0 1 ... 0 0 0]\n",
      " [0 0 0 ... 0 0 0]\n",
      " [0 0 0 ... 0 0 0]\n",
      " ...\n",
      " [0 0 0 ... 0 0 0]\n",
      " [0 0 0 ... 0 0 0]\n",
      " [0 0 0 ... 0 0 0]]\n",
      "['-1' 'Accounting & Legal' 'Aerospace & Defense' 'Agriculture & Forestry'\n",
      " 'Arts, Entertainment & Recreation' 'Biotech & Pharmaceuticals'\n",
      " 'Business Services' 'Construction, Repair & Maintenance'\n",
      " 'Consumer Services' 'Education' 'Finance' 'Government' 'Health Care'\n",
      " 'Information Technology' 'Insurance' 'Manufacturing' 'Media'\n",
      " 'Mining & Metals' 'Non-Profit' 'Oil, Gas, Energy & Utilities'\n",
      " 'Real Estate' 'Retail' 'Telecommunications' 'Transportation & Logistics'\n",
      " 'Travel & Tourism']\n",
      "[[0 0 0 ... 0 0 0]\n",
      " [0 0 0 ... 0 0 0]\n",
      " [0 0 0 ... 0 1 0]\n",
      " ...\n",
      " [0 0 0 ... 0 0 0]\n",
      " [0 0 0 ... 0 0 0]\n",
      " [0 0 0 ... 0 0 0]]\n",
      "[' AL' ' AZ' ' CA' ' CO' ' CT' ' DC' ' DE' ' FL' ' GA' ' IA' ' ID' ' IL'\n",
      " ' IN' ' KS' ' KY' ' LA' ' Los Angeles' ' MA' ' MD' ' MI' ' MN' ' MO'\n",
      " ' NC' ' NE' ' NJ' ' NM' ' NY' ' OH' ' OR' ' PA' ' RI' ' SC' ' TN' ' TX'\n",
      " ' UT' ' VA' ' WA' ' WI']\n"
     ]
    },
    {
     "data": {
      "text/plain": [
       "(676, 38)"
      ]
     },
     "execution_count": 159,
     "metadata": {},
     "output_type": "execute_result"
    }
   ],
   "source": [
    "# making one hot encoded variables for the categorical\n",
    "\n",
    "from sklearn.preprocessing import LabelBinarizer\n",
    "one_hot_encoder = LabelBinarizer()\n",
    "\n",
    "# With sklearn processing OH for 'Size':\n",
    "\n",
    "soh = one_hot_encoder.fit_transform(cdf['Size']) # One-hot encode the 'Make' variable\n",
    "print(soh)\n",
    "names = one_hot_encoder.classes_ # Get names of the classes\n",
    "print(names)\n",
    "\n",
    "sdf = pd.DataFrame( data = soh, columns = names) # Create a new df for the encoded variables\n",
    "sdf.shape\n",
    "\n",
    "# With sklearn processing OH for 'Size':\n",
    "\n",
    "ssoh = one_hot_encoder.fit_transform(cdf['Sector']) # One-hot encode the 'Make' variable\n",
    "print(ssoh)\n",
    "names = one_hot_encoder.classes_ # Get names of the classes\n",
    "print(names)\n",
    "\n",
    "ssdf = pd.DataFrame( data = ssoh, columns = names) # Create a new df for the encoded variables\n",
    "ssdf.shape\n",
    "\n",
    "# With sklearn processing OH for 'Size':\n",
    "\n",
    "joh = one_hot_encoder.fit_transform(cdf['job_state']) # One-hot encode the 'Make' variable\n",
    "print(joh)\n",
    "names = one_hot_encoder.classes_ # Get names of the classes\n",
    "print(names)\n",
    "\n",
    "jdf = pd.DataFrame( data = joh, columns = names) # Create a new df for the encoded variables\n",
    "jdf.shape\n"
   ]
  },
  {
   "cell_type": "code",
   "execution_count": 160,
   "metadata": {},
   "outputs": [],
   "source": [
    "xdf = pd.concat([sdf,ssdf,jdf],axis=1)\n",
    "\n"
   ]
  },
  {
   "cell_type": "code",
   "execution_count": 161,
   "metadata": {},
   "outputs": [],
   "source": [
    "# Assuming you have a target variable named 'y'\n",
    "X = xdf\n",
    "y = cdf['avg_salary']  \n",
    "\n",
    "# Split the sample\n",
    "X_train1, X_test1, y_train1, y_test1 = train_test_split(X, y, test_size=0.2, random_state=100)"
   ]
  },
  {
   "cell_type": "code",
   "execution_count": 162,
   "metadata": {},
   "outputs": [],
   "source": [
    "X_trai = np.concatenate([X_train,X_train1],axis=1)\n",
    "X_tes = np.concatenate([X_test,X_test1],axis=1)\n",
    "# y_trai = pd.concat([y_train,y_train1],axis=1)\n",
    "# y_tes = pd.concat([y_test,y_test1],axis=1)"
   ]
  },
  {
   "cell_type": "code",
   "execution_count": 163,
   "metadata": {},
   "outputs": [
    {
     "name": "stdout",
     "output_type": "stream",
     "text": [
      "(540, 72)\n",
      "(136, 72)\n",
      "(540,)\n"
     ]
    },
    {
     "data": {
      "text/plain": [
       "(136,)"
      ]
     },
     "execution_count": 163,
     "metadata": {},
     "output_type": "execute_result"
    }
   ],
   "source": [
    "print(X_trai.shape)\n",
    "print(X_tes.shape)\n",
    "print(y_train.shape)\n",
    "y_test.shape\n",
    "\n",
    "# y_trai.head()"
   ]
  },
  {
   "cell_type": "markdown",
   "metadata": {},
   "source": [
    "## Part 2"
   ]
  },
  {
   "cell_type": "code",
   "execution_count": 164,
   "metadata": {},
   "outputs": [],
   "source": [
    "def pn(x):\n",
    "    print(x,'\\n')"
   ]
  },
  {
   "cell_type": "code",
   "execution_count": 165,
   "metadata": {},
   "outputs": [
    {
     "name": "stdout",
     "output_type": "stream",
     "text": [
      "Below is my Multiple Linear Regression Model for avg_salary based only on Sector: \n",
      "\n",
      "this is the intercept value: 15.030232995723566 \n",
      "\n",
      "these are the regression coefficients: [-2.61175089e-14  1.66000000e+02 -1.12954901e+00 -1.12954901e+00\n",
      " -1.12954901e+00 -1.12954901e+00 -1.12954901e+00 -1.12954901e+00\n",
      " -1.12954901e+00 -3.31628606e-01 -3.31628606e-01 -3.31628606e-01\n",
      " -1.30488936e-01 -3.31628606e-01 -3.31628606e-01 -3.31628606e-01\n",
      " -3.31628606e-01 -3.31628606e-01 -3.31628606e-01 -3.31628606e-01\n",
      " -3.31628606e-01 -3.31628606e-01 -3.31628606e-01 -3.31628606e-01\n",
      " -3.31628606e-01 -3.31628606e-01 -3.31628606e-01 -3.31628606e-01\n",
      " -3.31628606e-01 -3.31628606e-01 -3.31628606e-01 -3.31628606e-01\n",
      " -3.31628606e-01 -3.31628606e-01 -6.90553761e-02 -6.90553761e-02\n",
      " -6.90553761e-02 -6.90553761e-02 -6.90553761e-02 -6.90553761e-02\n",
      " -6.90553761e-02 -6.90553761e-02 -6.90553761e-02 -6.90553761e-02\n",
      " -6.90553761e-02 -6.90553761e-02 -6.90553761e-02 -6.90553761e-02\n",
      " -6.90553761e-02 -6.90553761e-02 -6.90553761e-02 -6.90553761e-02\n",
      " -6.90553761e-02 -6.90553761e-02 -6.90553761e-02 -6.90553761e-02\n",
      " -6.90553761e-02 -6.90553761e-02 -6.90553761e-02 -6.90553761e-02\n",
      " -6.90553761e-02 -6.90553761e-02 -6.90553761e-02 -6.90553761e-02\n",
      " -6.90553761e-02 -6.90553761e-02 -6.90553761e-02 -6.90553761e-02\n",
      " -6.90553761e-02 -6.90553761e-02 -6.90553761e-02 -6.90553761e-02] \n",
      "\n",
      "R Squared is equal to: 1.0 \n",
      "\n",
      "the root mean squared error is: 0.017247584443403866\n"
     ]
    }
   ],
   "source": [
    "# Use a linear model to regress avg_salary on Sector. Which sectors have the highest predicted wages? \n",
    "from sklearn.linear_model import LinearRegression\n",
    "import math\n",
    "from sklearn.metrics import mean_squared_error\n",
    "\n",
    "thing = 'Below is my Multiple Linear Regression Model for avg_salary based only on Sector:'\n",
    "pn(thing)\n",
    "\n",
    "\n",
    "reg = LinearRegression().fit(X_trai, y_train) # Fit the linear model\n",
    "pn(f'this is the intercept value: {reg.intercept_}') # Intercept value\n",
    "pn(f'these are the regression coefficients: {reg.coef_}') # Regression coefficients\n",
    "pn(f'R Squared is equal to: {reg.score(X_trai, y_train)}') # R squared measure\n",
    "\n",
    "# Predict values for the test set\n",
    "y_pred = reg.predict(X_tes)\n",
    "\n",
    "# Calculate mean squared error\n",
    "mse = mean_squared_error(y_test, y_pred)\n",
    "\n",
    "# Calculate root mean squared error\n",
    "rmse = np.sqrt(mse)\n",
    "print(f'the root mean squared error is: {rmse}')\n"
   ]
  },
  {
   "cell_type": "code",
   "execution_count": 166,
   "metadata": {},
   "outputs": [
    {
     "data": {
      "text/plain": [
       "<AxesSubplot:xlabel='Sector', ylabel='avg_salary'>"
      ]
     },
     "execution_count": 166,
     "metadata": {},
     "output_type": "execute_result"
    },
    {
     "data": {
      "image/png": "[encoded data removed]",
      "text/plain": [
       "<Figure size 720x432 with 1 Axes>"
      ]
     },
     "metadata": {
      "needs_background": "light"
     },
     "output_type": "display_data"
    }
   ],
   "source": [
    "plt.figure(figsize=(10, 6))\n",
    "plt.xticks(rotation=90)\n",
    "\n",
    "sns.scatterplot(data=cdf,y='avg_salary',x='Sector')"
   ]
  },
  {
   "cell_type": "code",
   "execution_count": 167,
   "metadata": {},
   "outputs": [],
   "source": [
    "# Which sectors have the highest predicted wages?\n",
    "\n",
    "# It seems as though Information Technology, and biotech and pharmaceuticals have the highest predicted wages. "
   ]
  },
  {
   "cell_type": "code",
   "execution_count": 168,
   "metadata": {},
   "outputs": [],
   "source": [
    "# What is the  𝑅2  and RMSE on the test set?\n",
    "\n",
    "# R Squared is equal to: 1.0 \n",
    "# the root mean squared error is: 0.017247584443403866"
   ]
  },
  {
   "cell_type": "markdown",
   "metadata": {},
   "source": [
    "## Part 3"
   ]
  },
  {
   "cell_type": "code",
   "execution_count": 169,
   "metadata": {},
   "outputs": [
    {
     "data": {
      "text/plain": [
       "<AxesSubplot:xlabel='Rating', ylabel='avg_salary'>"
      ]
     },
     "execution_count": 169,
     "metadata": {},
     "output_type": "execute_result"
    },
    {
     "data": {
      "image/png": "[encoded data removed]",
      "text/plain": [
       "<Figure size 432x288 with 1 Axes>"
      ]
     },
     "metadata": {
      "needs_background": "light"
     },
     "output_type": "display_data"
    }
   ],
   "source": [
    "# Make a scatterplot of avg_salary and Rating. Is there an obvious visual relationship between the two variables?\n",
    "\n",
    "sns.scatterplot(data=cdf,y='avg_salary',x='Rating')\n",
    "\n",
    "# There does not seem to be an obvious visual relationship between the two variables. You might be able to say that\n",
    "# an increasing rating increases with average salary, but it's unclear. "
   ]
  },
  {
   "cell_type": "code",
   "execution_count": 170,
   "metadata": {},
   "outputs": [
    {
     "data": {
      "text/plain": [
       "(676, 6)"
      ]
     },
     "execution_count": 170,
     "metadata": {},
     "output_type": "execute_result"
    }
   ],
   "source": [
    "cdf.head()\n",
    "cdf.shape"
   ]
  },
  {
   "cell_type": "code",
   "execution_count": 171,
   "metadata": {},
   "outputs": [
    {
     "name": "stdout",
     "output_type": "stream",
     "text": [
      "Below is my Multiple Linear Regression Model for avg_salary based only on Rating: \n",
      "\n",
      "this is the intercept value: 87.3049661267769 \n",
      "\n",
      "these are the regression coefficients: [19.21573713] \n",
      "\n",
      "R Squared is equal to: 0.01816038362736916 \n",
      "\n",
      "the root mean squared error is: 36.73837534484608\n"
     ]
    }
   ],
   "source": [
    "#  Regress avg_salary on Rating as a numeric variable: Do higher ratings predict higher or lower wages?\n",
    "\n",
    "from sklearn.linear_model import LinearRegression\n",
    "import math\n",
    "from sklearn.metrics import mean_squared_error\n",
    "\n",
    "thing = 'Below is my Multiple Linear Regression Model for avg_salary based only on Rating:'\n",
    "pn(thing)\n",
    "\n",
    "# Assuming maxmin is MinMaxScaler\n",
    "scaler = MinMaxScaler()\n",
    "\n",
    "# Extracting numeric columns for normalization\n",
    "X = cdf.iloc[:,[1]] \n",
    "# this is already indexing into cdf to get the numeric variables, so we don't have to indicate that below\n",
    "\n",
    "# Normalize numeric columns in X\n",
    "X_normalized = scaler.fit_transform(X)\n",
    "\n",
    "# Assuming you have a target variable named 'y'\n",
    "y = cdf['avg_salary']  \n",
    "\n",
    "# Split the sample\n",
    "X_train, X_test, y_train, y_test = train_test_split(X_normalized, y, test_size=0.2, random_state=100)\n",
    "\n",
    "# part of this code came from chat gpt to help me split the data\n",
    "\n",
    "reg = LinearRegression().fit(X_train, y_train) # Fit the linear model\n",
    "pn(f'this is the intercept value: {reg.intercept_}') # Intercept value\n",
    "pn(f'these are the regression coefficients: {reg.coef_}') # Regression coefficients\n",
    "pn(f'R Squared is equal to: {reg.score(X_train, y_train)}') # R squared measure\n",
    "\n",
    "# Predict values for the test set\n",
    "y_pred = reg.predict(X_test)\n",
    "\n",
    "# Calculate mean squared error\n",
    "mse = mean_squared_error(y_test, y_pred)\n",
    "\n",
    "# Calculate root mean squared error\n",
    "rmse = np.sqrt(mse)\n",
    "print(f'the root mean squared error is: {rmse}')\n",
    "\n",
    "\n",
    "# There is basically no correlation between higher wages predicting higher ratings of the job given that the\n",
    "# R^2 is equal to .01: an extremely low R^2. This basically indicates that a linear relationship is not the best way\n",
    "# to model predictions in this data. "
   ]
  },
  {
   "cell_type": "code",
   "execution_count": 172,
   "metadata": {},
   "outputs": [],
   "source": [
    "## turning the ratings into categories\n",
    "\n",
    "Ratings = ['poor','fair','good','great','fabulous']\n",
    "# 3.0 less is poor\n",
    "# 3.0 - 3.5 is fair\n",
    "# 3.5 - 4.0 is good\n",
    "# 4.0 - 4.5 is great\n",
    "# 4.5 - 5.0 is fabulous\n",
    "\n",
    "cdf = cdf.loc[cdf['Rating']>2.5,:]\n",
    "cdf = cdf.loc[cdf['Rating']<4.75,:]\n",
    "\n",
    "attribute_list = []\n",
    "\n",
    "for value in cdf['Rating']:\n",
    "    if value < 3.0:\n",
    "        attribute_list.append('poor')\n",
    "    elif 3.0 <= value < 3.5:\n",
    "        attribute_list.append('fair')\n",
    "    elif 3.5 <= value < 4.0:\n",
    "        attribute_list.append('good')\n",
    "    elif 4.0 <= value < 4.5:\n",
    "        attribute_list.append('great')\n",
    "    else:\n",
    "        attribute_list.append('fabulous')\n",
    "        \n",
    "cdf['Rating_Category'] = attribute_list\n",
    "\n",
    "# cdf['Rating'].plot.box()"
   ]
  },
  {
   "cell_type": "code",
   "execution_count": 173,
   "metadata": {},
   "outputs": [
    {
     "name": "stdout",
     "output_type": "stream",
     "text": [
      "[[0 0 1 0 0]\n",
      " [0 1 0 0 0]\n",
      " [0 0 1 0 0]\n",
      " ...\n",
      " [0 0 0 0 1]\n",
      " [0 1 0 0 0]\n",
      " [0 0 1 0 0]]\n",
      "['fabulous' 'fair' 'good' 'great' 'poor']\n"
     ]
    },
    {
     "data": {
      "text/plain": [
       "(676, 5)"
      ]
     },
     "execution_count": 173,
     "metadata": {},
     "output_type": "execute_result"
    }
   ],
   "source": [
    "# Convert Rating to a one-hot encoded variable, with a category for each rating.\n",
    "\n",
    "# With sklearn processing OH for 'Size':\n",
    "\n",
    "roh = one_hot_encoder.fit_transform(cdf['Rating_Category']) # One-hot encode the 'Make' variable\n",
    "print(roh)\n",
    "names = one_hot_encoder.classes_ # Get names of the classes\n",
    "print(names)\n",
    "\n",
    "rdf = pd.DataFrame( data = roh, columns = names) # Create a new df for the encoded variables\n",
    "rdf.shape\n"
   ]
  },
  {
   "cell_type": "code",
   "execution_count": 174,
   "metadata": {},
   "outputs": [
    {
     "name": "stdout",
     "output_type": "stream",
     "text": [
      "Below is my Linear Regression Model for avg_salary based only on Rating: \n",
      "\n",
      "this is the intercept value: 15.030232995723566 \n",
      "\n",
      "these are the regression coefficients: [-2.61175089e-14  1.66000000e+02 -1.12954901e+00 -1.12954901e+00\n",
      " -1.12954901e+00 -1.12954901e+00 -1.12954901e+00 -1.12954901e+00\n",
      " -1.12954901e+00 -3.31628606e-01 -3.31628606e-01 -3.31628606e-01\n",
      " -1.30488936e-01 -3.31628606e-01 -3.31628606e-01 -3.31628606e-01\n",
      " -3.31628606e-01 -3.31628606e-01 -3.31628606e-01 -3.31628606e-01\n",
      " -3.31628606e-01 -3.31628606e-01 -3.31628606e-01 -3.31628606e-01\n",
      " -3.31628606e-01 -3.31628606e-01 -3.31628606e-01 -3.31628606e-01\n",
      " -3.31628606e-01 -3.31628606e-01 -3.31628606e-01 -3.31628606e-01\n",
      " -3.31628606e-01 -3.31628606e-01 -6.90553761e-02 -6.90553761e-02\n",
      " -6.90553761e-02 -6.90553761e-02 -6.90553761e-02 -6.90553761e-02\n",
      " -6.90553761e-02 -6.90553761e-02 -6.90553761e-02 -6.90553761e-02\n",
      " -6.90553761e-02 -6.90553761e-02 -6.90553761e-02 -6.90553761e-02\n",
      " -6.90553761e-02 -6.90553761e-02 -6.90553761e-02 -6.90553761e-02\n",
      " -6.90553761e-02 -6.90553761e-02 -6.90553761e-02 -6.90553761e-02\n",
      " -6.90553761e-02 -6.90553761e-02 -6.90553761e-02 -6.90553761e-02\n",
      " -6.90553761e-02 -6.90553761e-02 -6.90553761e-02 -6.90553761e-02\n",
      " -6.90553761e-02 -6.90553761e-02 -6.90553761e-02 -6.90553761e-02\n",
      " -6.90553761e-02 -6.90553761e-02 -6.90553761e-02 -6.90553761e-02] \n",
      "\n",
      "R Squared is equal to: 1.0 \n",
      "\n",
      "the root mean squared error is: 0.017247584443403866\n"
     ]
    }
   ],
   "source": [
    "# Run a regression of avg_salary on the categorical version. How do your results change?\n",
    "\n",
    "thing = 'Below is my Linear Regression Model for avg_salary based only on Rating:'\n",
    "pn(thing)\n",
    "\n",
    "\n",
    "# Extracting numeric columns for normalization\n",
    "X = rdf\n",
    "\n",
    "# Assuming you have a target variable named 'y'\n",
    "y = cdf['avg_salary']  \n",
    "\n",
    "# Split the sample\n",
    "X_train, X_test, y_train, y_test = train_test_split(X, y, test_size=0.2, random_state=100)\n",
    "\n",
    "reg = LinearRegression().fit(X_trai, y_train) # Fit the linear model\n",
    "pn(f'this is the intercept value: {reg.intercept_}') # Intercept value\n",
    "pn(f'these are the regression coefficients: {reg.coef_}') # Regression coefficients\n",
    "pn(f'R Squared is equal to: {reg.score(X_trai, y_train)}') # R squared measure\n",
    "\n",
    "# Predict values for the test set\n",
    "y_pred = reg.predict(X_tes)\n",
    "\n",
    "# Calculate mean squared error\n",
    "mse = mean_squared_error(y_test, y_pred)\n",
    "\n",
    "# Calculate root mean squared error\n",
    "rmse = np.sqrt(mse)\n",
    "print(f'the root mean squared error is: {rmse}')"
   ]
  },
  {
   "cell_type": "code",
   "execution_count": 175,
   "metadata": {},
   "outputs": [],
   "source": [
    "# Explain. Which version has a higher  𝑅2  and lower RMSE?\n",
    "\n",
    "# The categorical has a much higher R^2 and a lower RMSE. This means that when you partially group the data into \n",
    "# categories, points can then be predicted by a linear model. This model indicates that there is a huge effect on \n",
    "# the results if you group the ratings into separate categories and may mean that the difference between 3.5 and 3.6 or\n",
    "# 3.7 is insignificant, and that a better way to predict salary from ratings would be to use categorical groupings o"
   ]
  },
  {
   "cell_type": "markdown",
   "metadata": {},
   "source": [
    "## Part 4"
   ]
  },
  {
   "cell_type": "code",
   "execution_count": 176,
   "metadata": {},
   "outputs": [
    {
     "name": "stdout",
     "output_type": "stream",
     "text": [
      "(676, 30)\n",
      "   Sector_-1  Sector_Accounting & Legal  Sector_Aerospace & Defense  \\\n",
      "0          0                          0                           1   \n",
      "1          0                          0                           0   \n",
      "3          0                          0                           0   \n",
      "4          0                          0                           0   \n",
      "5          0                          0                           0   \n",
      "\n",
      "   Sector_Agriculture & Forestry  Sector_Arts, Entertainment & Recreation  \\\n",
      "0                              0                                        0   \n",
      "1                              0                                        0   \n",
      "3                              0                                        0   \n",
      "4                              0                                        0   \n",
      "5                              0                                        0   \n",
      "\n",
      "   Sector_Biotech & Pharmaceuticals  Sector_Business Services  \\\n",
      "0                                 0                         0   \n",
      "1                                 0                         0   \n",
      "3                                 0                         0   \n",
      "4                                 0                         1   \n",
      "5                                 0                         0   \n",
      "\n",
      "   Sector_Construction, Repair & Maintenance  Sector_Consumer Services  \\\n",
      "0                                          0                         0   \n",
      "1                                          0                         0   \n",
      "3                                          0                         0   \n",
      "4                                          0                         0   \n",
      "5                                          0                         0   \n",
      "\n",
      "   Sector_Education  ...  Sector_Real Estate  Sector_Retail  \\\n",
      "0                 0  ...                   0              0   \n",
      "1                 0  ...                   0              0   \n",
      "3                 0  ...                   0              0   \n",
      "4                 0  ...                   0              0   \n",
      "5                 0  ...                   1              0   \n",
      "\n",
      "   Sector_Telecommunications  Sector_Transportation & Logistics  \\\n",
      "0                          0                                  0   \n",
      "1                          0                                  0   \n",
      "3                          0                                  0   \n",
      "4                          0                                  0   \n",
      "5                          0                                  0   \n",
      "\n",
      "   Sector_Travel & Tourism  Rating_fabulous  Rating_fair  Rating_good  \\\n",
      "0                        0                0            0            1   \n",
      "1                        0                0            1            0   \n",
      "3                        0                0            0            1   \n",
      "4                        0                0            0            0   \n",
      "5                        0                0            1            0   \n",
      "\n",
      "   Rating_great  Rating_poor  \n",
      "0             0            0  \n",
      "1             0            0  \n",
      "3             0            0  \n",
      "4             0            1  \n",
      "5             0            0  \n",
      "\n",
      "[5 rows x 30 columns]\n"
     ]
    }
   ],
   "source": [
    "# Now interact Sector with the categorical version of Rating, so your regressors are a\n",
    "# (Sector, Rating) pair; this is a programming puzzle you'll have to think about, \n",
    "# but using the .PolynomialFeatures() function on the one-hot encoded categorical \n",
    "# variables is one option, and another is pre-processing a new variable that interacts \n",
    "# Sector and Rating and then one-hot encoding the result. \n",
    "\n",
    "# One-hot encode the 'Rating_Category' column\n",
    "rating_dummies = pd.get_dummies(cdf['Rating_Category'], prefix='Rating')\n",
    "sector_dummies = pd.get_dummies(cdf['Sector'],prefix = \"Sector\")\n",
    "\n",
    "# Concatenate 'Sector' and the one-hot encoded 'Rating_Category'\n",
    "regressors = pd.concat([sector_dummies, rating_dummies], axis=1)\n",
    "\n",
    "# Display the new DataFrame with the interacted variables\n",
    "print(regressors.shape)\n",
    "print(regressors.head())\n",
    "\n",
    "# cdf['avg_salary'].shape\n",
    "# I used chatgpt to help me figure this out^"
   ]
  },
  {
   "cell_type": "code",
   "execution_count": 177,
   "metadata": {},
   "outputs": [
    {
     "name": "stdout",
     "output_type": "stream",
     "text": [
      "Below is my Linear Regression Model for avg_salary based only on Rating/Sector pair: \n",
      "\n",
      "this is the intercept value: 841166061885188.1 \n",
      "\n",
      "these are the regression coefficients: [ 1.49091978e+15  1.49091978e+15  1.49091978e+15 -1.09179774e+14\n",
      "  1.49091978e+15  1.49091978e+15  1.49091978e+15  1.49091978e+15\n",
      "  1.49091978e+15  1.49091978e+15  1.49091978e+15  1.49091978e+15\n",
      "  1.49091978e+15  1.49091978e+15  1.49091978e+15  1.49091978e+15\n",
      "  1.49091978e+15  1.49091978e+15  1.49091978e+15  1.49091978e+15\n",
      "  1.49091978e+15  1.49091978e+15  1.49091978e+15  1.49091978e+15\n",
      "  1.49091978e+15 -2.33208585e+15 -2.33208585e+15 -2.33208585e+15\n",
      " -2.33208585e+15 -2.33208585e+15] \n",
      "\n",
      "R Squared is equal to: 0.17426329525308604 \n",
      "\n",
      "the root mean squared error is: 137207405151408.28\n"
     ]
    }
   ],
   "source": [
    "# Regress avg_salary on the (Sector, Rating) pairs. How does the  𝑅2  and RMSE on the test \n",
    "# set compare to part 2? \n",
    "\n",
    "thing = 'Below is my Linear Regression Model for avg_salary based only on Rating/Sector pair:'\n",
    "pn(thing)\n",
    "\n",
    "# setting the dataset\n",
    "X = regressors\n",
    "\n",
    "# Assuming you have a target variable named 'y'\n",
    "y = cdf['avg_salary']  \n",
    "\n",
    "# Split the sample\n",
    "X_train, X_test, y_train, y_test = train_test_split(X, y, test_size=0.2, random_state=100)\n",
    "\n",
    "reg = LinearRegression().fit(X_train, y_train) # Fit the linear model\n",
    "pn(f'this is the intercept value: {reg.intercept_}') # Intercept value\n",
    "pn(f'these are the regression coefficients: {reg.coef_}') # Regression coefficients\n",
    "pn(f'R Squared is equal to: {reg.score(X_train, y_train)}') # R squared measure\n",
    "\n",
    "# Predict values for the test set\n",
    "y_pred = reg.predict(X_test)\n",
    "\n",
    "# Calculate mean squared error\n",
    "mse = mean_squared_error(y_test, y_pred)\n",
    "\n",
    "# Calculate root mean squared error\n",
    "rmse = np.sqrt(mse)\n",
    "print(f'the root mean squared error is: {rmse}')"
   ]
  },
  {
   "cell_type": "code",
   "execution_count": 178,
   "metadata": {},
   "outputs": [
    {
     "name": "stdout",
     "output_type": "stream",
     "text": [
      "Index(['Sector_Accounting & Legal', 'Sector_Aerospace & Defense',\n",
      "       'Sector_Agriculture & Forestry', 'Sector_Biotech & Pharmaceuticals',\n",
      "       'Sector_Business Services', 'Sector_Construction, Repair & Maintenance',\n",
      "       'Sector_Consumer Services', 'Sector_Education', 'Sector_Finance',\n",
      "       'Sector_Government', 'Sector_Health Care',\n",
      "       'Sector_Information Technology', 'Sector_Insurance',\n",
      "       'Sector_Manufacturing', 'Sector_Media', 'Sector_Mining & Metals',\n",
      "       'Sector_Non-Profit', 'Sector_Oil, Gas, Energy & Utilities',\n",
      "       'Sector_Real Estate', 'Sector_Retail', 'Sector_Telecommunications',\n",
      "       'Sector_Transportation & Logistics', 'Sector_Travel & Tourism',\n",
      "       'Rating_fabulous', 'Rating_fair'],\n",
      "      dtype='object')\n"
     ]
    }
   ],
   "source": [
    "# Interpret the coefficients; which sector-rating pairs have the highest wages?\n",
    "\n",
    "# The sector-rating pairs given below have the highest wages according to my interpretation of the coefficients: \n",
    "print(regressors.columns[[1, 2, 3] + list(range(5, 27))])"
   ]
  },
  {
   "cell_type": "markdown",
   "metadata": {},
   "source": [
    "## Part 5"
   ]
  },
  {
   "cell_type": "code",
   "execution_count": 179,
   "metadata": {},
   "outputs": [
    {
     "data": {
      "text/html": [
       "<div>\n",
       "<style scoped>\n",
       "    .dataframe tbody tr th:only-of-type {\n",
       "        vertical-align: middle;\n",
       "    }\n",
       "\n",
       "    .dataframe tbody tr th {\n",
       "        vertical-align: top;\n",
       "    }\n",
       "\n",
       "    .dataframe thead th {\n",
       "        text-align: right;\n",
       "    }\n",
       "</style>\n",
       "<table border=\"1\" class=\"dataframe\">\n",
       "  <thead>\n",
       "    <tr style=\"text-align: right;\">\n",
       "      <th></th>\n",
       "      <th>Unnamed: 0</th>\n",
       "      <th>Rating</th>\n",
       "      <th>Size</th>\n",
       "      <th>Sector</th>\n",
       "      <th>avg_salary</th>\n",
       "      <th>job_state</th>\n",
       "      <th>Rating_Category</th>\n",
       "    </tr>\n",
       "  </thead>\n",
       "  <tbody>\n",
       "    <tr>\n",
       "      <th>0</th>\n",
       "      <td>1</td>\n",
       "      <td>3.8</td>\n",
       "      <td>501 to 1000 employees</td>\n",
       "      <td>Aerospace &amp; Defense</td>\n",
       "      <td>72.0</td>\n",
       "      <td>NM</td>\n",
       "      <td>good</td>\n",
       "    </tr>\n",
       "    <tr>\n",
       "      <th>1</th>\n",
       "      <td>2</td>\n",
       "      <td>3.4</td>\n",
       "      <td>10000+ employees</td>\n",
       "      <td>Health Care</td>\n",
       "      <td>87.5</td>\n",
       "      <td>MD</td>\n",
       "      <td>fair</td>\n",
       "    </tr>\n",
       "    <tr>\n",
       "      <th>3</th>\n",
       "      <td>4</td>\n",
       "      <td>3.8</td>\n",
       "      <td>1001 to 5000 employees</td>\n",
       "      <td>Oil, Gas, Energy &amp; Utilities</td>\n",
       "      <td>76.5</td>\n",
       "      <td>WA</td>\n",
       "      <td>good</td>\n",
       "    </tr>\n",
       "    <tr>\n",
       "      <th>4</th>\n",
       "      <td>5</td>\n",
       "      <td>2.9</td>\n",
       "      <td>51 to 200 employees</td>\n",
       "      <td>Business Services</td>\n",
       "      <td>114.5</td>\n",
       "      <td>NY</td>\n",
       "      <td>poor</td>\n",
       "    </tr>\n",
       "    <tr>\n",
       "      <th>5</th>\n",
       "      <td>6</td>\n",
       "      <td>3.4</td>\n",
       "      <td>201 to 500 employees</td>\n",
       "      <td>Real Estate</td>\n",
       "      <td>95.0</td>\n",
       "      <td>TX</td>\n",
       "      <td>fair</td>\n",
       "    </tr>\n",
       "  </tbody>\n",
       "</table>\n",
       "</div>"
      ],
      "text/plain": [
       "   Unnamed: 0  Rating                    Size                        Sector  \\\n",
       "0           1     3.8   501 to 1000 employees           Aerospace & Defense   \n",
       "1           2     3.4        10000+ employees                   Health Care   \n",
       "3           4     3.8  1001 to 5000 employees  Oil, Gas, Energy & Utilities   \n",
       "4           5     2.9     51 to 200 employees             Business Services   \n",
       "5           6     3.4    201 to 500 employees                   Real Estate   \n",
       "\n",
       "   avg_salary job_state Rating_Category  \n",
       "0        72.0        NM            good  \n",
       "1        87.5        MD            fair  \n",
       "3        76.5        WA            good  \n",
       "4       114.5        NY            poor  \n",
       "5        95.0        TX            fair  "
      ]
     },
     "execution_count": 179,
     "metadata": {},
     "output_type": "execute_result"
    }
   ],
   "source": [
    "cdf.head()"
   ]
  },
  {
   "cell_type": "code",
   "execution_count": 180,
   "metadata": {},
   "outputs": [
    {
     "name": "stdout",
     "output_type": "stream",
     "text": [
      "Below is my Linear Regression Model for avg_salary based on all the variables: \n",
      "\n",
      "this is the intercept value: 44.40854909256877 \n",
      "\n",
      "these are the regression coefficients: [-3.11342787e+01 -3.11342787e+01 -3.11342787e+01 -3.11342787e+01\n",
      " -3.11342787e+01 -3.11342787e+01 -3.11342787e+01  5.10139986e-01\n",
      "  5.10139986e-01  5.10139986e-01 -4.58347497e+00  5.10139986e-01\n",
      "  5.10139986e-01  5.10139986e-01  5.10139986e-01  5.10139986e-01\n",
      "  5.10139986e-01  5.10139986e-01  5.10139986e-01  5.10139986e-01\n",
      "  5.10139986e-01  5.10139986e-01  5.10139986e-01  5.10139986e-01\n",
      "  5.10139986e-01  5.10139986e-01  5.10139986e-01  5.10139986e-01\n",
      "  5.10139986e-01  5.10139986e-01  5.10139986e-01  5.10139986e-01\n",
      " -2.84410419e-01 -2.84410419e-01 -2.84410419e-01 -2.84410419e-01\n",
      " -2.84410419e-01 -2.84410419e-01 -2.84410419e-01 -2.84410419e-01\n",
      " -2.84410419e-01 -2.84410419e-01 -2.84410419e-01 -2.84410419e-01\n",
      " -2.84410419e-01 -2.84410419e-01 -2.84410419e-01 -2.84410419e-01\n",
      " -2.84410419e-01 -2.84410419e-01 -2.84410419e-01 -2.84410419e-01\n",
      " -2.84410419e-01 -2.84410419e-01 -2.84410419e-01 -2.84410419e-01\n",
      " -2.84410419e-01 -2.84410419e-01 -2.84410419e-01 -2.84410419e-01\n",
      " -2.84410419e-01 -2.84410419e-01 -2.84410419e-01 -2.84410419e-01\n",
      " -2.84410419e-01 -2.84410419e-01 -2.84410419e-01 -2.84410419e-01\n",
      " -2.84410419e-01 -2.84410419e-01  1.86517468e-14  1.66000000e+02] \n",
      "\n",
      "R Squared is equal to: 1.0 \n",
      "\n",
      "the root mean squared error is: 0.4367738787489402\n"
     ]
    }
   ],
   "source": [
    "# Run a linear regression of avg_salary on all the variables. \n",
    "\n",
    "thing = 'Below is my Linear Regression Model for avg_salary based on all the variables:'\n",
    "pn(thing)\n",
    "\n",
    "# Extracting numeric columns for normalization\n",
    "X = cdf.iloc[:,[1,4]] \n",
    "# this is already indexing into cdf to get the numeric variables, so we don't have to indicate that below\n",
    "\n",
    "# Normalize numeric columns in X\n",
    "X_normalized = scaler.fit_transform(X)\n",
    "# print(X_normalized)\n",
    "\n",
    "xdf = pd.concat([sdf,ssdf,jdf],axis=1)\n",
    "\n",
    "X_normalized1 = scaler.fit_transform(xdf)\n",
    "# With sklearn processing OH for 'Size':\n",
    "# print(X_normalized1)\n",
    "\n",
    "# Assuming X_normalized1 and X_normalized2 are NumPy arrays\n",
    "X_combined = np.concatenate((X_normalized1, X_normalized), axis=1)\n",
    "\n",
    "\n",
    "# Assuming you have a target variable named 'y'\n",
    "y = cdf['avg_salary']  \n",
    "\n",
    "# Split the sample\n",
    "X_train, X_test, y_train, y_test = train_test_split(X_combined, y, test_size=0.2, random_state=100)\n",
    "\n",
    "# part of this code came from chat gpt to help me split the data\n",
    "\n",
    "reg = LinearRegression().fit(X_train, y_train) # Fit the linear model\n",
    "pn(f'this is the intercept value: {reg.intercept_}') # Intercept value\n",
    "pn(f'these are the regression coefficients: {reg.coef_}') # Regression coefficients\n",
    "pn(f'R Squared is equal to: {reg.score(X_train, y_train)}') # R squared measure\n",
    "\n",
    "# Predict values for the test set\n",
    "y_pred = reg.predict(X_test)\n",
    "\n",
    "# Calculate mean squared error\n",
    "mse = mean_squared_error(y_test, y_pred)\n",
    "\n",
    "# Calculate root mean squared error\n",
    "rmse = np.sqrt(mse)\n",
    "print(f'the root mean squared error is: {rmse}')"
   ]
  },
  {
   "cell_type": "code",
   "execution_count": 181,
   "metadata": {},
   "outputs": [],
   "source": [
    "# What is the  𝑅2  on the test set? How does it compare to your simpler models in 2--4?\n",
    "\n",
    "# the R^2 on the test set is 1.0 which is a very very good R. The root mean squared error is also very small. \n",
    "# The categorical Ratings still has a smaller RMSE than this example, so I would consider that a better model, but this\n",
    "# model still does a great job of predicting data points. "
   ]
  },
  {
   "cell_type": "markdown",
   "metadata": {},
   "source": [
    "## Part 6"
   ]
  },
  {
   "cell_type": "code",
   "execution_count": 182,
   "metadata": {},
   "outputs": [],
   "source": [
    "def performance(y_test,y_hat): # Sample code to compute classifier performance\n",
    "    tab = pd.crosstab(np.array(y_hat),np.array(y_test)) # Compute confusion matrix\n",
    "    #\n",
    "    # Get entries from the confusion matrix:\n",
    "    tp = tab.iloc[0,0] \n",
    "    tn = tab.iloc[1,1]\n",
    "    fp = tab.iloc[0,1]\n",
    "    fn = tab.iloc[1,0]\n",
    "    tot = tp+tn+fp+fn\n",
    "    #\n",
    "    # Compute performance statistics:\n",
    "    acc = (tp+tn)/tot\n",
    "    spec = tn/(tp+fn)\n",
    "    sens = tp/(tp+fn)\n",
    "    mcc = (tp*tn-fp*fn)/np.sqrt((tp+fp)*(tp+fn)*(tn+fp)*(tn+fn))\n",
    "    #\n",
    "    # Return a dictionary including the confusion matrix and metrics:\n",
    "    return({'confusion_matrix':tab,\n",
    "            'accuracy':acc,\n",
    "            'specificity':spec,\n",
    "            'sensitivity':sens,\n",
    "            'mcc':mcc})"
   ]
  },
  {
   "cell_type": "code",
   "execution_count": 183,
   "metadata": {},
   "outputs": [],
   "source": [
    "from sklearn import tree\n",
    "\n",
    "# sector/rating pair: regressors\n",
    "# rating: rdf\n",
    "# sector: ssdf\n",
    "\n",
    "# ssdf.shape\n",
    "\n",
    "# have to make a data frame with all the values as numerical. rip\n",
    "tree_df = pd.concat([rdf,ssdf,regressors],axis=1)\n",
    "\n",
    "treedf = tree_df.iloc[:-51]\n",
    "\n",
    "# print(treedf.shape)\n",
    "\n",
    "# Process data:\n",
    "y = cdf['avg_salary']\n",
    "\n",
    "\n",
    "X_train, X_test, y_train, y_test = train_test_split(treedf, y, test_size=0.2, random_state=42)\n"
   ]
  },
  {
   "cell_type": "code",
   "execution_count": 184,
   "metadata": {},
   "outputs": [
    {
     "name": "stdout",
     "output_type": "stream",
     "text": [
      "{'confusion_matrix': col_0       31.5   39.5   40.5   48.5   49.0   50.0   51.0   53.5   54.0   \\\n",
      "row_0                                                                       \n",
      "77.363636       0      0      0      0      0      0      0      0      0   \n",
      "93.000000       0      0      0      0      0      0      0      0      0   \n",
      "95.029221       1      1      1      1      2      1      1      1      2   \n",
      "124.888889      0      0      0      0      0      0      0      0      0   \n",
      "\n",
      "col_0       55.0   ...  139.5  140.0  150.5  151.5  153.0  163.0  164.0  \\\n",
      "row_0              ...                                                    \n",
      "77.363636       0  ...      0      0      0      0      0      0      0   \n",
      "93.000000       0  ...      0      0      0      0      0      0      0   \n",
      "95.029221       1  ...      2      1      2      0      1      0      2   \n",
      "124.888889      0  ...      0      1      0      1      0      1      0   \n",
      "\n",
      "col_0       169.0  171.5  174.0  \n",
      "row_0                            \n",
      "77.363636       0      0      0  \n",
      "93.000000       0      0      0  \n",
      "95.029221       1      1      0  \n",
      "124.888889      0      0      1  \n",
      "\n",
      "[4 rows x 101 columns], 'accuracy': nan, 'specificity': nan, 'sensitivity': nan, 'mcc': nan}\n"
     ]
    },
    {
     "name": "stderr",
     "output_type": "stream",
     "text": [
      "<ipython-input-182-cf45d1c1c5bf>:12: RuntimeWarning: invalid value encountered in scalar divide\n",
      "  acc = (tp+tn)/tot\n",
      "<ipython-input-182-cf45d1c1c5bf>:13: RuntimeWarning: invalid value encountered in scalar divide\n",
      "  spec = tn/(tp+fn)\n",
      "<ipython-input-182-cf45d1c1c5bf>:14: RuntimeWarning: invalid value encountered in scalar divide\n",
      "  sens = tp/(tp+fn)\n",
      "<ipython-input-182-cf45d1c1c5bf>:15: RuntimeWarning: invalid value encountered in scalar divide\n",
      "  mcc = (tp*tn-fp*fn)/np.sqrt((tp+fp)*(tp+fn)*(tn+fp)*(tn+fn))\n"
     ]
    },
    {
     "data": {
      "image/png": "[encoded data removed]",
      "text/plain": [
       "<Figure size 432x288 with 1 Axes>"
      ]
     },
     "metadata": {
      "needs_background": "light"
     },
     "output_type": "display_data"
    }
   ],
   "source": [
    "# Build a decision tree by regressing avg_salary on Sector, Rating, and the \n",
    "# (Sector, Rating) pairs. \n",
    "\n",
    "model = tree.DecisionTreeRegressor(max_depth=10) # Fit the classifier\n",
    "cart = model.fit(X_train, y_train)\n",
    "tree.plot_tree(cart,filled=True) \n",
    "\n",
    "## Make Predictions on the Test Set\n",
    "y_hat_cart = cart.predict(X_test)\n",
    "\n",
    "# Compute performance:\n",
    "perf_cart = performance(y_test,y_hat_cart)\n",
    "print(perf_cart)\n"
   ]
  },
  {
   "cell_type": "code",
   "execution_count": 185,
   "metadata": {},
   "outputs": [
    {
     "name": "stdout",
     "output_type": "stream",
     "text": [
      "Decision Tree Performance:\n",
      "{'R^2': 0.0028145202774648714, 'RMSE': 29.93040840600991}\n"
     ]
    }
   ],
   "source": [
    "# What are the  𝑅2  and RMSE of your models on the test set?\n",
    "from sklearn.metrics import mean_squared_error, r2_score\n",
    "\n",
    "\n",
    "# Compute performance for the decision tree\n",
    "perf_cart = {'R^2': r2_score(y_test, y_hat_cart), 'RMSE': np.sqrt(mean_squared_error(y_test, y_hat_cart))}\n",
    "print(\"Decision Tree Performance:\")\n",
    "print(perf_cart)\n",
    "\n",
    "# this code is from chatgpt"
   ]
  },
  {
   "cell_type": "code",
   "execution_count": 186,
   "metadata": {},
   "outputs": [],
   "source": [
    "# How do your answers compare to parts 2, 3, and 4?\n",
    "\n",
    "# This R^2 is not as good at the original sets. The RMSE is also larger. The R^2 is smaller than 2-4 and the\n",
    "# RMSE is larger than numbers 2 -4. "
   ]
  },
  {
   "cell_type": "markdown",
   "metadata": {},
   "source": [
    "## Part 7"
   ]
  },
  {
   "cell_type": "code",
   "execution_count": 187,
   "metadata": {},
   "outputs": [
    {
     "data": {
      "text/html": [
       "<div>\n",
       "<style scoped>\n",
       "    .dataframe tbody tr th:only-of-type {\n",
       "        vertical-align: middle;\n",
       "    }\n",
       "\n",
       "    .dataframe tbody tr th {\n",
       "        vertical-align: top;\n",
       "    }\n",
       "\n",
       "    .dataframe thead th {\n",
       "        text-align: right;\n",
       "    }\n",
       "</style>\n",
       "<table border=\"1\" class=\"dataframe\">\n",
       "  <thead>\n",
       "    <tr style=\"text-align: right;\">\n",
       "      <th></th>\n",
       "      <th>Unnamed: 0</th>\n",
       "      <th>Rating</th>\n",
       "      <th>Size</th>\n",
       "      <th>Sector</th>\n",
       "      <th>avg_salary</th>\n",
       "      <th>job_state</th>\n",
       "      <th>Rating_Category</th>\n",
       "    </tr>\n",
       "  </thead>\n",
       "  <tbody>\n",
       "    <tr>\n",
       "      <th>0</th>\n",
       "      <td>1</td>\n",
       "      <td>3.8</td>\n",
       "      <td>501 to 1000 employees</td>\n",
       "      <td>Aerospace &amp; Defense</td>\n",
       "      <td>72.0</td>\n",
       "      <td>NM</td>\n",
       "      <td>good</td>\n",
       "    </tr>\n",
       "    <tr>\n",
       "      <th>1</th>\n",
       "      <td>2</td>\n",
       "      <td>3.4</td>\n",
       "      <td>10000+ employees</td>\n",
       "      <td>Health Care</td>\n",
       "      <td>87.5</td>\n",
       "      <td>MD</td>\n",
       "      <td>fair</td>\n",
       "    </tr>\n",
       "    <tr>\n",
       "      <th>3</th>\n",
       "      <td>4</td>\n",
       "      <td>3.8</td>\n",
       "      <td>1001 to 5000 employees</td>\n",
       "      <td>Oil, Gas, Energy &amp; Utilities</td>\n",
       "      <td>76.5</td>\n",
       "      <td>WA</td>\n",
       "      <td>good</td>\n",
       "    </tr>\n",
       "    <tr>\n",
       "      <th>4</th>\n",
       "      <td>5</td>\n",
       "      <td>2.9</td>\n",
       "      <td>51 to 200 employees</td>\n",
       "      <td>Business Services</td>\n",
       "      <td>114.5</td>\n",
       "      <td>NY</td>\n",
       "      <td>poor</td>\n",
       "    </tr>\n",
       "    <tr>\n",
       "      <th>5</th>\n",
       "      <td>6</td>\n",
       "      <td>3.4</td>\n",
       "      <td>201 to 500 employees</td>\n",
       "      <td>Real Estate</td>\n",
       "      <td>95.0</td>\n",
       "      <td>TX</td>\n",
       "      <td>fair</td>\n",
       "    </tr>\n",
       "  </tbody>\n",
       "</table>\n",
       "</div>"
      ],
      "text/plain": [
       "   Unnamed: 0  Rating                    Size                        Sector  \\\n",
       "0           1     3.8   501 to 1000 employees           Aerospace & Defense   \n",
       "1           2     3.4        10000+ employees                   Health Care   \n",
       "3           4     3.8  1001 to 5000 employees  Oil, Gas, Energy & Utilities   \n",
       "4           5     2.9     51 to 200 employees             Business Services   \n",
       "5           6     3.4    201 to 500 employees                   Real Estate   \n",
       "\n",
       "   avg_salary job_state Rating_Category  \n",
       "0        72.0        NM            good  \n",
       "1        87.5        MD            fair  \n",
       "3        76.5        WA            good  \n",
       "4       114.5        NY            poor  \n",
       "5        95.0        TX            fair  "
      ]
     },
     "execution_count": 187,
     "metadata": {},
     "output_type": "execute_result"
    }
   ],
   "source": [
    "cdf.head()"
   ]
  },
  {
   "cell_type": "code",
   "execution_count": 188,
   "metadata": {},
   "outputs": [],
   "source": [
    "# Build a decision tree by regressing avg_salary on all the other variables. \n",
    "\n",
    "from sklearn import tree\n",
    "\n",
    "# sector/rating pair: regressors\n",
    "# rating: rdf\n",
    "# sector: ssdf\n",
    "\n",
    "# ssdf.shape\n",
    "\n",
    "mdf = cdf['Rating']\n",
    "\n",
    "tree_df = pd.concat([sdf,ssdf,jdf,rdf,mdf],axis=1)\n",
    "\n",
    "treedf = tree_df.iloc[:-51]\n",
    "\n",
    "# print(treedf.shape)\n",
    "\n",
    "# Process data:\n",
    "y = cdf['avg_salary']\n",
    "\n",
    "\n",
    "X_train, X_test, y_train, y_test = train_test_split(treedf, y, test_size=0.2, random_state=42)\n",
    "\n"
   ]
  },
  {
   "cell_type": "code",
   "execution_count": 189,
   "metadata": {},
   "outputs": [
    {
     "name": "stderr",
     "output_type": "stream",
     "text": [
      "<ipython-input-182-cf45d1c1c5bf>:15: RuntimeWarning: invalid value encountered in scalar divide\n",
      "  mcc = (tp*tn-fp*fn)/np.sqrt((tp+fp)*(tp+fn)*(tn+fp)*(tn+fn))\n"
     ]
    },
    {
     "name": "stdout",
     "output_type": "stream",
     "text": [
      "{'confusion_matrix': col_0       31.5   39.5   40.5   48.5   49.0   50.0   51.0   53.5   54.0   \\\n",
      "row_0                                                                       \n",
      "81.500000       0      0      0      0      0      0      0      0      0   \n",
      "93.341686       1      1      1      0      2      1      0      1      2   \n",
      "109.318182      0      0      0      1      0      0      1      0      0   \n",
      "117.119048      0      0      0      0      0      0      0      0      0   \n",
      "136.807692      0      0      0      0      0      0      0      0      0   \n",
      "139.700000      0      0      0      0      0      0      0      0      0   \n",
      "162.750000      0      0      0      0      0      0      0      0      0   \n",
      "\n",
      "col_0       55.0   ...  139.5  140.0  150.5  151.5  153.0  163.0  164.0  \\\n",
      "row_0              ...                                                    \n",
      "81.500000       0  ...      0      0      0      0      0      0      0   \n",
      "93.341686       1  ...      2      2      0      0      0      0      2   \n",
      "109.318182      0  ...      0      0      0      1      0      1      0   \n",
      "117.119048      0  ...      0      0      0      0      0      0      0   \n",
      "136.807692      0  ...      0      0      1      0      1      0      0   \n",
      "139.700000      0  ...      0      0      1      0      0      0      0   \n",
      "162.750000      0  ...      0      0      0      0      0      0      0   \n",
      "\n",
      "col_0       169.0  171.5  174.0  \n",
      "row_0                            \n",
      "81.500000       0      0      0  \n",
      "93.341686       0      0      0  \n",
      "109.318182      1      0      1  \n",
      "117.119048      0      0      0  \n",
      "136.807692      0      0      0  \n",
      "139.700000      0      0      0  \n",
      "162.750000      0      1      0  \n",
      "\n",
      "[7 rows x 101 columns], 'accuracy': 0.5, 'specificity': 1.0, 'sensitivity': 0.0, 'mcc': nan}\n"
     ]
    },
    {
     "data": {
      "image/png": "[encoded data removed]",
      "text/plain": [
       "<Figure size 432x288 with 1 Axes>"
      ]
     },
     "metadata": {
      "needs_background": "light"
     },
     "output_type": "display_data"
    }
   ],
   "source": [
    "model = tree.DecisionTreeRegressor(max_depth=10) # Fit the classifier\n",
    "cart = model.fit(X_train, y_train)\n",
    "tree.plot_tree(cart,filled=True) \n",
    "\n",
    "## Make Predictions on the Test Set\n",
    "y_hat_cart = cart.predict(X_test)\n",
    "\n",
    "# Compute performance:\n",
    "perf_cart = performance(y_test,y_hat_cart)\n",
    "print(perf_cart)\n"
   ]
  },
  {
   "cell_type": "code",
   "execution_count": 190,
   "metadata": {},
   "outputs": [
    {
     "name": "stdout",
     "output_type": "stream",
     "text": [
      "Decision Tree Performance:\n",
      "{'R^2': 0.13965796499243022, 'RMSE': 27.80098869268749}\n"
     ]
    }
   ],
   "source": [
    "# What is the  𝑅2  and RMSE on the test set?\n",
    "\n",
    "# Compute performance for the decision tree\n",
    "perf_cart = {'R^2': r2_score(y_test, y_hat_cart), 'RMSE': np.sqrt(mean_squared_error(y_test, y_hat_cart))}\n",
    "print(\"Decision Tree Performance:\")\n",
    "print(perf_cart)\n",
    "\n",
    "# this code is from chatgpt"
   ]
  },
  {
   "cell_type": "markdown",
   "metadata": {},
   "source": [
    "## Part 8"
   ]
  },
  {
   "cell_type": "code",
   "execution_count": 191,
   "metadata": {},
   "outputs": [
    {
     "name": "stdout",
     "output_type": "stream",
     "text": [
      "(676, 76)\n"
     ]
    }
   ],
   "source": [
    "# Build a linear regression or decision tree using the available variables based on your own judgment. \n",
    "\n",
    "\n",
    "tree_df = pd.concat([sdf,ssdf,jdf,rdf],axis=1)\n",
    "\n",
    "print(treedf.shape)\n",
    "\n",
    "# Process data:\n",
    "y = cdf['avg_salary']\n",
    "\n",
    "\n",
    "X_train, X_test, y_train, y_test = train_test_split(treedf, y, test_size=0.2, random_state=42)\n",
    "\n"
   ]
  },
  {
   "cell_type": "code",
   "execution_count": 192,
   "metadata": {},
   "outputs": [
    {
     "name": "stderr",
     "output_type": "stream",
     "text": [
      "<ipython-input-182-cf45d1c1c5bf>:15: RuntimeWarning: invalid value encountered in scalar divide\n",
      "  mcc = (tp*tn-fp*fn)/np.sqrt((tp+fp)*(tp+fn)*(tn+fp)*(tn+fn))\n"
     ]
    },
    {
     "name": "stdout",
     "output_type": "stream",
     "text": [
      "{'confusion_matrix': col_0       31.5   39.5   40.5   48.5   49.0   50.0   51.0   53.5   54.0   \\\n",
      "row_0                                                                       \n",
      "24.833333       0      0      0      0      0      0      0      0      0   \n",
      "69.940000       1      0      0      0      0      1      0      0      0   \n",
      "100.969124      0      1      1      1      2      0      1      1      2   \n",
      "\n",
      "col_0       55.0   ...  139.5  140.0  150.5  151.5  153.0  163.0  164.0  \\\n",
      "row_0              ...                                                    \n",
      "24.833333       0  ...      0      0      0      0      0      0      0   \n",
      "69.940000       0  ...      0      0      0      0      0      0      0   \n",
      "100.969124      1  ...      2      2      2      1      1      1      2   \n",
      "\n",
      "col_0       169.0  171.5  174.0  \n",
      "row_0                            \n",
      "24.833333       0      0      0  \n",
      "69.940000       0      0      0  \n",
      "100.969124      1      1      1  \n",
      "\n",
      "[3 rows x 101 columns], 'accuracy': 0.0, 'specificity': 0.0, 'sensitivity': 0.0, 'mcc': nan}\n"
     ]
    },
    {
     "data": {
      "image/png": "[encoded data removed]",
      "text/plain": [
       "<Figure size 432x288 with 1 Axes>"
      ]
     },
     "metadata": {
      "needs_background": "light"
     },
     "output_type": "display_data"
    }
   ],
   "source": [
    "model = tree.DecisionTreeRegressor(max_depth=10) # Fit the classifier\n",
    "cart = model.fit(X_train, y_train)\n",
    "tree.plot_tree(cart,filled=True) \n",
    "\n",
    "## Make Predictions on the Test Set\n",
    "y_hat_cart = cart.predict(X_test)\n",
    "\n",
    "# Compute performance:\n",
    "perf_cart = performance(y_test,y_hat_cart)\n",
    "print(perf_cart)\n"
   ]
  },
  {
   "cell_type": "code",
   "execution_count": 48,
   "metadata": {},
   "outputs": [],
   "source": [
    "# What degrees of freedom are you giving the model to predict variation in wages across company and location attributes?\n",
    "\n",
    "# I just did the tree to a depth of 10 because that's what performed the best in the question 1 set. "
   ]
  },
  {
   "cell_type": "code",
   "execution_count": 193,
   "metadata": {},
   "outputs": [
    {
     "name": "stdout",
     "output_type": "stream",
     "text": [
      "Decision Tree Performance:\n",
      "{'R^2': -0.10531904458474273, 'RMSE': 31.511457885851232}\n"
     ]
    }
   ],
   "source": [
    "# What is the  𝑅2  and RMSE of your model?\n",
    "\n",
    "# Compute performance for the decision tree\n",
    "perf_cart = {'R^2': r2_score(y_test, y_hat_cart), 'RMSE': np.sqrt(mean_squared_error(y_test, y_hat_cart))}\n",
    "print(\"Decision Tree Performance:\")\n",
    "print(perf_cart)"
   ]
  },
  {
   "cell_type": "code",
   "execution_count": 50,
   "metadata": {},
   "outputs": [],
   "source": [
    "# How does it compare to the previous ones in the question? Why does yours perform better or worse on the test set?\n",
    "\n",
    "# I thought my R^2 would be better because I just used the categorical variable for ranking instead of a numerical \n",
    "# variable, but it seems to be performing worse than all the other models I've created. I think it might perform\n",
    "# worse than previous models because having both the numeric and categorical ranking provides a regressor to base results\n",
    "# off of whereas just having a categorical variable for the rankings seems to confuse things and add more error. \n",
    "# Moreover, my model might have performed worse on the test set because "
   ]
  }
 ],
 "metadata": {
  "kernelspec": {
   "display_name": "Python 3",
   "language": "python",
   "name": "python3"
  },
  "language_info": {
   "codemirror_mode": {
    "name": "ipython",
    "version": 3
   },
   "file_extension": ".py",
   "mimetype": "text/x-python",
   "name": "python",
   "nbconvert_exporter": "python",
   "pygments_lexer": "ipython3",
   "version": "3.8.8"
  }
 },
 "nbformat": 4,
 "nbformat_minor": 4
}
