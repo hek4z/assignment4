{
 "cells": [
  {
   "cell_type": "markdown",
   "metadata": {},
   "source": [
    "## Question 1"
   ]
  },
  {
   "cell_type": "code",
   "execution_count": 2,
   "metadata": {},
   "outputs": [],
   "source": [
    "import pandas as pd\n",
    "import numpy as np\n",
    "import seaborn as sns\n",
    "import matplotlib.pyplot as plt\n",
    "def pn(x):\n",
    "    print(x,'\\n')"
   ]
  },
  {
   "cell_type": "markdown",
   "metadata": {},
   "source": [
    "### Part 1"
   ]
  },
  {
   "cell_type": "code",
   "execution_count": 3,
   "metadata": {},
   "outputs": [
    {
     "name": "stdout",
     "output_type": "stream",
     "text": [
      "Unnamed: 0            int64\n",
      "Make                 object\n",
      "Make_Year             int64\n",
      "Color                object\n",
      "Body_Type            object\n",
      "Mileage_Run           int64\n",
      "No_of_Owners         object\n",
      "Seating_Capacity      int64\n",
      "Fuel_Type            object\n",
      "Transmission         object\n",
      "Transmission_Type    object\n",
      "Price                 int64\n",
      "dtype: object\n"
     ]
    }
   ],
   "source": [
    "df = pd.read_csv('./data/cars_hw.csv')\n",
    "print(df.dtypes) "
   ]
  },
  {
   "cell_type": "code",
   "execution_count": 4,
   "metadata": {},
   "outputs": [
    {
     "name": "stdout",
     "output_type": "stream",
     "text": [
      "(976, 12) \n",
      "\n",
      "Unnamed: 0            int64\n",
      "Make                 object\n",
      "Make_Year             int64\n",
      "Color                object\n",
      "Body_Type            object\n",
      "Mileage_Run           int64\n",
      "No_of_Owners         object\n",
      "Seating_Capacity      int64\n",
      "Fuel_Type            object\n",
      "Transmission         object\n",
      "Transmission_Type    object\n",
      "Price                 int64\n",
      "dtype: object \n",
      "\n",
      "Index(['Make', 'Make_Year', 'Color', 'Body_Type'], dtype='object') \n",
      "\n"
     ]
    }
   ],
   "source": [
    "print(df.shape, '\\n') # List the dimensions of df\n",
    "print(df.dtypes, '\\n') # The types of the variables; `object` is a bad sign\n",
    "print(df.columns[1:5], '\\n') # First five column names"
   ]
  },
  {
   "cell_type": "code",
   "execution_count": 5,
   "metadata": {},
   "outputs": [
    {
     "data": {
      "text/html": [
       "<div>\n",
       "<style scoped>\n",
       "    .dataframe tbody tr th:only-of-type {\n",
       "        vertical-align: middle;\n",
       "    }\n",
       "\n",
       "    .dataframe tbody tr th {\n",
       "        vertical-align: top;\n",
       "    }\n",
       "\n",
       "    .dataframe thead th {\n",
       "        text-align: right;\n",
       "    }\n",
       "</style>\n",
       "<table border=\"1\" class=\"dataframe\">\n",
       "  <thead>\n",
       "    <tr style=\"text-align: right;\">\n",
       "      <th></th>\n",
       "      <th>Unnamed: 0</th>\n",
       "      <th>Make</th>\n",
       "      <th>Make_Year</th>\n",
       "      <th>Color</th>\n",
       "      <th>Body_Type</th>\n",
       "      <th>Mileage_Run</th>\n",
       "      <th>No_of_Owners</th>\n",
       "      <th>Seating_Capacity</th>\n",
       "      <th>Fuel_Type</th>\n",
       "      <th>Transmission</th>\n",
       "      <th>Transmission_Type</th>\n",
       "      <th>Price</th>\n",
       "    </tr>\n",
       "  </thead>\n",
       "  <tbody>\n",
       "    <tr>\n",
       "      <th>0</th>\n",
       "      <td>1</td>\n",
       "      <td>Volkswagen</td>\n",
       "      <td>2017</td>\n",
       "      <td>silver</td>\n",
       "      <td>sedan</td>\n",
       "      <td>44611</td>\n",
       "      <td>1st</td>\n",
       "      <td>5</td>\n",
       "      <td>diesel</td>\n",
       "      <td>7-Speed</td>\n",
       "      <td>Automatic</td>\n",
       "      <td>657000</td>\n",
       "    </tr>\n",
       "    <tr>\n",
       "      <th>1</th>\n",
       "      <td>2</td>\n",
       "      <td>Hyundai</td>\n",
       "      <td>2016</td>\n",
       "      <td>red</td>\n",
       "      <td>crossover</td>\n",
       "      <td>20305</td>\n",
       "      <td>1st</td>\n",
       "      <td>5</td>\n",
       "      <td>petrol</td>\n",
       "      <td>5-Speed</td>\n",
       "      <td>Manual</td>\n",
       "      <td>682000</td>\n",
       "    </tr>\n",
       "    <tr>\n",
       "      <th>2</th>\n",
       "      <td>3</td>\n",
       "      <td>Honda</td>\n",
       "      <td>2019</td>\n",
       "      <td>white</td>\n",
       "      <td>suv</td>\n",
       "      <td>29540</td>\n",
       "      <td>2nd</td>\n",
       "      <td>5</td>\n",
       "      <td>petrol</td>\n",
       "      <td>5-Speed</td>\n",
       "      <td>Manual</td>\n",
       "      <td>793000</td>\n",
       "    </tr>\n",
       "    <tr>\n",
       "      <th>3</th>\n",
       "      <td>4</td>\n",
       "      <td>Renault</td>\n",
       "      <td>2017</td>\n",
       "      <td>bronze</td>\n",
       "      <td>hatchback</td>\n",
       "      <td>35680</td>\n",
       "      <td>1st</td>\n",
       "      <td>5</td>\n",
       "      <td>petrol</td>\n",
       "      <td>5-Speed</td>\n",
       "      <td>Manual</td>\n",
       "      <td>414000</td>\n",
       "    </tr>\n",
       "    <tr>\n",
       "      <th>4</th>\n",
       "      <td>5</td>\n",
       "      <td>Hyundai</td>\n",
       "      <td>2017</td>\n",
       "      <td>orange</td>\n",
       "      <td>hatchback</td>\n",
       "      <td>25126</td>\n",
       "      <td>1st</td>\n",
       "      <td>5</td>\n",
       "      <td>petrol</td>\n",
       "      <td>5-Speed</td>\n",
       "      <td>Manual</td>\n",
       "      <td>515000</td>\n",
       "    </tr>\n",
       "  </tbody>\n",
       "</table>\n",
       "</div>"
      ],
      "text/plain": [
       "   Unnamed: 0        Make  Make_Year   Color  Body_Type  Mileage_Run  \\\n",
       "0           1  Volkswagen       2017  silver      sedan        44611   \n",
       "1           2     Hyundai       2016     red  crossover        20305   \n",
       "2           3       Honda       2019   white        suv        29540   \n",
       "3           4     Renault       2017  bronze  hatchback        35680   \n",
       "4           5     Hyundai       2017  orange  hatchback        25126   \n",
       "\n",
       "  No_of_Owners  Seating_Capacity Fuel_Type Transmission Transmission_Type  \\\n",
       "0          1st                 5    diesel      7-Speed         Automatic   \n",
       "1          1st                 5    petrol      5-Speed            Manual   \n",
       "2          2nd                 5    petrol      5-Speed            Manual   \n",
       "3          1st                 5    petrol      5-Speed            Manual   \n",
       "4          1st                 5    petrol      5-Speed            Manual   \n",
       "\n",
       "    Price  \n",
       "0  657000  \n",
       "1  682000  \n",
       "2  793000  \n",
       "3  414000  \n",
       "4  515000  "
      ]
     },
     "execution_count": 5,
     "metadata": {},
     "output_type": "execute_result"
    }
   ],
   "source": [
    "df.head()"
   ]
  },
  {
   "cell_type": "code",
   "execution_count": 6,
   "metadata": {},
   "outputs": [
    {
     "data": {
      "text/html": [
       "<div>\n",
       "<style scoped>\n",
       "    .dataframe tbody tr th:only-of-type {\n",
       "        vertical-align: middle;\n",
       "    }\n",
       "\n",
       "    .dataframe tbody tr th {\n",
       "        vertical-align: top;\n",
       "    }\n",
       "\n",
       "    .dataframe thead th {\n",
       "        text-align: right;\n",
       "    }\n",
       "</style>\n",
       "<table border=\"1\" class=\"dataframe\">\n",
       "  <thead>\n",
       "    <tr style=\"text-align: right;\">\n",
       "      <th></th>\n",
       "      <th>Unnamed: 0</th>\n",
       "      <th>Make</th>\n",
       "      <th>Make_Year</th>\n",
       "      <th>Color</th>\n",
       "      <th>Body_Type</th>\n",
       "      <th>Mileage_Run</th>\n",
       "      <th>No_of_Owners</th>\n",
       "      <th>Seating_Capacity</th>\n",
       "      <th>Fuel_Type</th>\n",
       "      <th>Transmission</th>\n",
       "      <th>Transmission_Type</th>\n",
       "      <th>Price</th>\n",
       "    </tr>\n",
       "  </thead>\n",
       "  <tbody>\n",
       "    <tr>\n",
       "      <th>971</th>\n",
       "      <td>972</td>\n",
       "      <td>Hyundai</td>\n",
       "      <td>2018</td>\n",
       "      <td>white</td>\n",
       "      <td>sedan</td>\n",
       "      <td>23869</td>\n",
       "      <td>1st</td>\n",
       "      <td>5</td>\n",
       "      <td>petrol</td>\n",
       "      <td>6-Speed</td>\n",
       "      <td>Automatic</td>\n",
       "      <td>956000</td>\n",
       "    </tr>\n",
       "    <tr>\n",
       "      <th>972</th>\n",
       "      <td>973</td>\n",
       "      <td>Hyundai</td>\n",
       "      <td>2019</td>\n",
       "      <td>white</td>\n",
       "      <td>sedan</td>\n",
       "      <td>14831</td>\n",
       "      <td>1st</td>\n",
       "      <td>5</td>\n",
       "      <td>petrol</td>\n",
       "      <td>6-Speed</td>\n",
       "      <td>Automatic</td>\n",
       "      <td>1027000</td>\n",
       "    </tr>\n",
       "    <tr>\n",
       "      <th>973</th>\n",
       "      <td>974</td>\n",
       "      <td>Hyundai</td>\n",
       "      <td>2014</td>\n",
       "      <td>silver</td>\n",
       "      <td>sedan</td>\n",
       "      <td>52846</td>\n",
       "      <td>1st</td>\n",
       "      <td>5</td>\n",
       "      <td>petrol</td>\n",
       "      <td>4-Speed</td>\n",
       "      <td>Automatic</td>\n",
       "      <td>736000</td>\n",
       "    </tr>\n",
       "    <tr>\n",
       "      <th>974</th>\n",
       "      <td>975</td>\n",
       "      <td>Ford</td>\n",
       "      <td>2020</td>\n",
       "      <td>white</td>\n",
       "      <td>crossover</td>\n",
       "      <td>28335</td>\n",
       "      <td>2nd</td>\n",
       "      <td>5</td>\n",
       "      <td>diesel</td>\n",
       "      <td>5-Speed</td>\n",
       "      <td>Automatic</td>\n",
       "      <td>749000</td>\n",
       "    </tr>\n",
       "    <tr>\n",
       "      <th>975</th>\n",
       "      <td>976</td>\n",
       "      <td>Maruti Suzuki</td>\n",
       "      <td>2018</td>\n",
       "      <td>silver</td>\n",
       "      <td>hatchback</td>\n",
       "      <td>41176</td>\n",
       "      <td>1st</td>\n",
       "      <td>5</td>\n",
       "      <td>petrol</td>\n",
       "      <td>5-Speed</td>\n",
       "      <td>Automatic</td>\n",
       "      <td>691000</td>\n",
       "    </tr>\n",
       "  </tbody>\n",
       "</table>\n",
       "</div>"
      ],
      "text/plain": [
       "     Unnamed: 0           Make  Make_Year   Color  Body_Type  Mileage_Run  \\\n",
       "971         972        Hyundai       2018   white      sedan        23869   \n",
       "972         973        Hyundai       2019   white      sedan        14831   \n",
       "973         974        Hyundai       2014  silver      sedan        52846   \n",
       "974         975           Ford       2020   white  crossover        28335   \n",
       "975         976  Maruti Suzuki       2018  silver  hatchback        41176   \n",
       "\n",
       "    No_of_Owners  Seating_Capacity Fuel_Type Transmission Transmission_Type  \\\n",
       "971          1st                 5    petrol      6-Speed         Automatic   \n",
       "972          1st                 5    petrol      6-Speed         Automatic   \n",
       "973          1st                 5    petrol      4-Speed         Automatic   \n",
       "974          2nd                 5    diesel      5-Speed         Automatic   \n",
       "975          1st                 5    petrol      5-Speed         Automatic   \n",
       "\n",
       "       Price  \n",
       "971   956000  \n",
       "972  1027000  \n",
       "973   736000  \n",
       "974   749000  \n",
       "975   691000  "
      ]
     },
     "execution_count": 6,
     "metadata": {},
     "output_type": "execute_result"
    }
   ],
   "source": [
    "df.tail()"
   ]
  },
  {
   "cell_type": "code",
   "execution_count": 7,
   "metadata": {},
   "outputs": [
    {
     "data": {
      "image/png": "[encoded data removed]",
      "text/plain": [
       "<Figure size 432x288 with 1 Axes>"
      ]
     },
     "metadata": {
      "needs_background": "light"
     },
     "output_type": "display_data"
    }
   ],
   "source": [
    "# Create a scatter plot to find the outliers\n",
    "plt.scatter(df['Unnamed: 0'], df['Price'], label='Scatter Plot')\n",
    "\n",
    "# Add labels and title\n",
    "plt.xlabel('X-axis')\n",
    "plt.ylabel('Y-axis')\n",
    "\n",
    "# Add a legend\n",
    "plt.legend()\n",
    "\n",
    "# Show the plot\n",
    "plt.show()\n",
    "\n",
    "# one big price outlier around 220"
   ]
  },
  {
   "cell_type": "code",
   "execution_count": 8,
   "metadata": {},
   "outputs": [
    {
     "name": "stdout",
     "output_type": "stream",
     "text": [
      "Price    1346000\n",
      "Name: 235, dtype: object\n",
      "       Price\n",
      "220   557000\n",
      "221   653000\n",
      "222   898000\n",
      "223   912000\n",
      "224   642000\n",
      "225   651000\n",
      "226   503000\n",
      "227   330000\n",
      "228   395000\n",
      "229  1235000\n",
      "230   808000\n",
      "231   458000\n",
      "232   514000\n",
      "233   512000\n",
      "234  2941000\n",
      "235  1346000\n",
      "236   844000\n",
      "237   844000\n",
      "238   844000\n",
      "239   844000\n",
      "240   789000\n",
      "241   570000\n",
      "242   639000\n",
      "243   470000\n",
      "244   454000\n",
      "245   618000\n",
      "246   548000\n",
      "247   710000\n",
      "248   621000\n",
      "249  1290000 \n",
      "\n",
      "Price    1346000\n",
      "Name: 235, dtype: object\n"
     ]
    }
   ],
   "source": [
    "cdf = df.copy()\n",
    "\n",
    "# Remove the 234 row from the copied dataset\n",
    "cdf = cdf.drop(234)\n",
    "print(cdf.iloc[234,11:12])\n",
    "\n",
    "\n",
    "print(df.iloc[220:250,11:12],'\\n') #finding the row that the outlier is in\n",
    "print(cdf.iloc[234,11:12]) # 234 is the outlier row"
   ]
  },
  {
   "cell_type": "code",
   "execution_count": 9,
   "metadata": {},
   "outputs": [
    {
     "data": {
      "image/png": "[encoded data removed]",
      "text/plain": [
       "<Figure size 432x288 with 1 Axes>"
      ]
     },
     "metadata": {
      "needs_background": "light"
     },
     "output_type": "display_data"
    },
    {
     "data": {
      "image/png": "[encoded data removed]",
      "text/plain": [
       "<Figure size 432x288 with 1 Axes>"
      ]
     },
     "metadata": {
      "needs_background": "light"
     },
     "output_type": "display_data"
    },
    {
     "data": {
      "image/png": "[encoded data removed]",
      "text/plain": [
       "<Figure size 432x288 with 1 Axes>"
      ]
     },
     "metadata": {
      "needs_background": "light"
     },
     "output_type": "display_data"
    }
   ],
   "source": [
    "# Create a scatter plot to show the new data it's a lot better now\n",
    "plt.scatter(cdf['Unnamed: 0'], cdf['Price'], label='Scatter Plot')\n",
    "\n",
    "# Add labels and title\n",
    "plt.xlabel('X-axis')\n",
    "plt.ylabel('Y-axis')\n",
    "\n",
    "# Add a legend\n",
    "plt.legend()\n",
    "\n",
    "# Show the plot\n",
    "plt.show()\n",
    "\n",
    "# Create a scatter plot to check out the mileage data\n",
    "plt.scatter(cdf['Unnamed: 0'], cdf['Mileage_Run'], label='Scatter Plot')\n",
    "\n",
    "# Add labels and title\n",
    "plt.xlabel('X-axis')\n",
    "plt.ylabel('Y-axis')\n",
    "\n",
    "# Add a legend\n",
    "plt.legend()\n",
    "\n",
    "# Show the plot\n",
    "plt.show()\n",
    "\n",
    "# Doesn't look like there are any outliers in the mileage_run data.\n",
    "\n",
    "# Create a scatter plot to check out the mileage data\n",
    "plt.scatter(cdf['Unnamed: 0'], cdf['Seating_Capacity'], label='Scatter Plot')\n",
    "\n",
    "# Add labels and title\n",
    "plt.xlabel('X-axis')\n",
    "plt.ylabel('Y-axis')\n",
    "\n",
    "# Add a legend\n",
    "plt.legend()\n",
    "\n",
    "# Show the plot\n",
    "plt.show()\n",
    "\n",
    "# Doesn't look like there are any outliers in the mileage_run data."
   ]
  },
  {
   "cell_type": "code",
   "execution_count": 10,
   "metadata": {},
   "outputs": [
    {
     "name": "stdout",
     "output_type": "stream",
     "text": [
      "     Seating_Capacity Fuel_Type\n",
      "920                 5    petrol\n",
      "921                 4    petrol\n",
      "922                 5    petrol\n",
      "923                 5    petrol\n",
      "924                 5    diesel\n",
      "925                 5    petrol\n",
      "926                 5    petrol\n",
      "927                 7    petrol\n",
      "928                 5    petrol\n",
      "929                 5    petrol\n",
      "930                 5    petrol\n",
      "931                 5    petrol\n",
      "932                 5    petrol\n",
      "933                 5    petrol\n",
      "934                 5    petrol\n",
      "935                 5    petrol\n",
      "936                 5    petrol\n",
      "937                 5    petrol\n",
      "938                 5    petrol\n",
      "939                 5    petrol\n",
      "940                 5    petrol\n",
      "941                 5    petrol\n",
      "942                 7    petrol\n",
      "943                 8    petrol\n",
      "944                 5    diesel\n",
      "945                 5    diesel\n",
      "946                 5    petrol\n",
      "947                 5    diesel\n",
      "948                 5    diesel\n",
      "949                 5    petrol\n",
      "950                 5    diesel\n",
      "951                 5    petrol\n",
      "952                 5    petrol\n",
      "953                 5    petrol\n",
      "954                 5    petrol\n",
      "955                 5    diesel\n",
      "956                 5    petrol\n",
      "957                 5    petrol\n",
      "958                 5    diesel\n",
      "959                 5    petrol\n",
      "960                 5    diesel\n",
      "961                 5    petrol\n",
      "962                 5    petrol\n",
      "963                 5    petrol\n",
      "964                 5    petrol\n",
      "965                 5    petrol\n",
      "966                 5    petrol\n",
      "967                 5    petrol\n",
      "968                 5    petrol\n",
      "969                 5    petrol\n",
      "970                 5    petrol \n",
      "\n",
      "4\n",
      "Seating_Capacity    5\n",
      "Name: 922, dtype: object\n"
     ]
    }
   ],
   "source": [
    "print(cdf.iloc[919:970,7:9],'\\n') #finding the row that the outlier is in\n",
    "# print(cdf.iloc[234,11:12]) # 234 is the outlier row\n",
    "\n",
    "#920 has a seating capacity of 4\n",
    "\n",
    "for i in cdf['Seating_Capacity']:\n",
    "    if i == 4:\n",
    "        print(i)\n",
    "# since there's only 1 four seater, I'm going to take it out\n",
    "\n",
    "# Remove the 920 row from the copied dataset\n",
    "cdf = cdf.drop(920)\n",
    "print(cdf.iloc[920,7:8])\n",
    "\n",
    "# there's only 4, 8 seaters and 1 6 person seater, so we can get back to those."
   ]
  },
  {
   "cell_type": "code",
   "execution_count": 11,
   "metadata": {},
   "outputs": [
    {
     "name": "stdout",
     "output_type": "stream",
     "text": [
      "919\n",
      "5\n"
     ]
    }
   ],
   "source": [
    "row_count = 0\n",
    "for i in cdf['Seating_Capacity']:\n",
    "    if i > 4:\n",
    "        row_count+=1\n",
    "    else: \n",
    "        print(row_count)\n",
    "\n",
    "print(cdf['Seating_Capacity'].iloc[868])\n",
    "        \n",
    "## deciding whether or not to remove the 8 seats, if that's a relevant variable or not. "
   ]
  },
  {
   "cell_type": "code",
   "execution_count": 12,
   "metadata": {},
   "outputs": [
    {
     "name": "stdout",
     "output_type": "stream",
     "text": [
      "1st\n"
     ]
    }
   ],
   "source": [
    "print(cdf['No_of_Owners'].iloc[0])"
   ]
  },
  {
   "cell_type": "code",
   "execution_count": 13,
   "metadata": {},
   "outputs": [],
   "source": [
    "# Check for NaN values in 'Column1'\n",
    "is_na = df['No_of_Owners'].isna()\n",
    "is_na = df['Transmission_Type'].isna()\n",
    "\n",
    "# Print the result\n",
    "for i in is_na: \n",
    "    if i == True: \n",
    "        print(is_na)\n",
    "    else: \n",
    "        continue\n",
    "\n",
    "cdf['New_Owners']=0\n",
    "\n",
    "# # Iterate through 'No_of_Owners'\n",
    "# for i, value in enumerate(cdf['No_of_Owners']):\n",
    "#     # Check if the value is not NaN (float('nan'))\n",
    "#     if pd.notna(value) and ('st' in value or 'nd' in value or 'rd' in value or 'th' in value):\n",
    "#         new_owner = value[0]\n",
    "#         cdf.at[i, 'New_Owner'] = new_owner\n",
    "#     else:\n",
    "#         continue\n",
    "\n",
    "# print(cdf['New_Owner'].head())\n",
    "\n",
    "# #chat gpt helped me make this code\n",
    "\n",
    "# cdf.tail()"
   ]
  },
  {
   "cell_type": "code",
   "execution_count": 14,
   "metadata": {},
   "outputs": [
    {
     "name": "stderr",
     "output_type": "stream",
     "text": [
      "/apps/software/standard/compiler/gcc/9.2.0/jupyter_conda/2020.11-py3.8/lib/python3.8/site-packages/pandas/core/indexing.py:670: SettingWithCopyWarning: \n",
      "A value is trying to be set on a copy of a slice from a DataFrame\n",
      "\n",
      "See the caveats in the documentation: https://pandas.pydata.org/pandas-docs/stable/user_guide/indexing.html#returning-a-view-versus-a-copy\n",
      "  iloc._setitem_with_indexer(indexer, value)\n"
     ]
    }
   ],
   "source": [
    "\n",
    "row_count = 0\n",
    "for i in cdf['No_of_Owners']:\n",
    "    if 'st' or 'nd' or 'rd' in i: \n",
    "        new = i[0]\n",
    "        cdf['New_Owners'].iloc[row_count]=new\n",
    "        row_count+=1\n",
    "    else:\n",
    "        continue\n"
   ]
  },
  {
   "cell_type": "code",
   "execution_count": 15,
   "metadata": {},
   "outputs": [],
   "source": [
    "cdf.tail()\n",
    "cdf['New_Owners'] = cdf['New_Owners'].astype(int)"
   ]
  },
  {
   "cell_type": "code",
   "execution_count": 16,
   "metadata": {},
   "outputs": [
    {
     "data": {
      "text/plain": [
       "<AxesSubplot:xlabel='Make_Year', ylabel='Price'>"
      ]
     },
     "execution_count": 16,
     "metadata": {},
     "output_type": "execute_result"
    },
    {
     "data": {
      "image/png": "[encoded data removed]",
      "text/plain": [
       "<Figure size 432x288 with 1 Axes>"
      ]
     },
     "metadata": {
      "needs_background": "light"
     },
     "output_type": "display_data"
    }
   ],
   "source": [
    "sns.scatterplot(data=cdf,y='Price',x='Make_Year')"
   ]
  },
  {
   "cell_type": "code",
   "execution_count": 17,
   "metadata": {},
   "outputs": [
    {
     "data": {
      "text/plain": [
       "<AxesSubplot:>"
      ]
     },
     "execution_count": 17,
     "metadata": {},
     "output_type": "execute_result"
    },
    {
     "data": {
      "image/png": "[encoded data removed]",
      "text/plain": [
       "<Figure size 432x288 with 1 Axes>"
      ]
     },
     "metadata": {
      "needs_background": "light"
     },
     "output_type": "display_data"
    }
   ],
   "source": [
    "cdf['Price'].plot.box() # outliers above 1.5e6"
   ]
  },
  {
   "cell_type": "code",
   "execution_count": 18,
   "metadata": {},
   "outputs": [
    {
     "data": {
      "text/plain": [
       "<AxesSubplot:>"
      ]
     },
     "execution_count": 18,
     "metadata": {},
     "output_type": "execute_result"
    },
    {
     "data": {
      "image/png": "[encoded data removed]",
      "text/plain": [
       "<Figure size 432x288 with 1 Axes>"
      ]
     },
     "metadata": {
      "needs_background": "light"
     },
     "output_type": "display_data"
    }
   ],
   "source": [
    "cdf['Make_Year'].plot.box() # Outliers above 4"
   ]
  },
  {
   "cell_type": "code",
   "execution_count": 19,
   "metadata": {},
   "outputs": [
    {
     "data": {
      "text/html": [
       "<div>\n",
       "<style scoped>\n",
       "    .dataframe tbody tr th:only-of-type {\n",
       "        vertical-align: middle;\n",
       "    }\n",
       "\n",
       "    .dataframe tbody tr th {\n",
       "        vertical-align: top;\n",
       "    }\n",
       "\n",
       "    .dataframe thead th {\n",
       "        text-align: right;\n",
       "    }\n",
       "</style>\n",
       "<table border=\"1\" class=\"dataframe\">\n",
       "  <thead>\n",
       "    <tr style=\"text-align: right;\">\n",
       "      <th></th>\n",
       "      <th>Unnamed: 0</th>\n",
       "      <th>Make</th>\n",
       "      <th>Make_Year</th>\n",
       "      <th>Color</th>\n",
       "      <th>Body_Type</th>\n",
       "      <th>Mileage_Run</th>\n",
       "      <th>No_of_Owners</th>\n",
       "      <th>Seating_Capacity</th>\n",
       "      <th>Fuel_Type</th>\n",
       "      <th>Transmission</th>\n",
       "      <th>Transmission_Type</th>\n",
       "      <th>Price</th>\n",
       "      <th>New_Owners</th>\n",
       "    </tr>\n",
       "  </thead>\n",
       "  <tbody>\n",
       "    <tr>\n",
       "      <th>0</th>\n",
       "      <td>1</td>\n",
       "      <td>Volkswagen</td>\n",
       "      <td>2017</td>\n",
       "      <td>silver</td>\n",
       "      <td>sedan</td>\n",
       "      <td>44611</td>\n",
       "      <td>1st</td>\n",
       "      <td>5</td>\n",
       "      <td>diesel</td>\n",
       "      <td>7-Speed</td>\n",
       "      <td>Automatic</td>\n",
       "      <td>657000</td>\n",
       "      <td>1</td>\n",
       "    </tr>\n",
       "    <tr>\n",
       "      <th>1</th>\n",
       "      <td>2</td>\n",
       "      <td>Hyundai</td>\n",
       "      <td>2016</td>\n",
       "      <td>red</td>\n",
       "      <td>crossover</td>\n",
       "      <td>20305</td>\n",
       "      <td>1st</td>\n",
       "      <td>5</td>\n",
       "      <td>petrol</td>\n",
       "      <td>5-Speed</td>\n",
       "      <td>Manual</td>\n",
       "      <td>682000</td>\n",
       "      <td>1</td>\n",
       "    </tr>\n",
       "    <tr>\n",
       "      <th>2</th>\n",
       "      <td>3</td>\n",
       "      <td>Honda</td>\n",
       "      <td>2019</td>\n",
       "      <td>white</td>\n",
       "      <td>suv</td>\n",
       "      <td>29540</td>\n",
       "      <td>2nd</td>\n",
       "      <td>5</td>\n",
       "      <td>petrol</td>\n",
       "      <td>5-Speed</td>\n",
       "      <td>Manual</td>\n",
       "      <td>793000</td>\n",
       "      <td>2</td>\n",
       "    </tr>\n",
       "    <tr>\n",
       "      <th>3</th>\n",
       "      <td>4</td>\n",
       "      <td>Renault</td>\n",
       "      <td>2017</td>\n",
       "      <td>bronze</td>\n",
       "      <td>hatchback</td>\n",
       "      <td>35680</td>\n",
       "      <td>1st</td>\n",
       "      <td>5</td>\n",
       "      <td>petrol</td>\n",
       "      <td>5-Speed</td>\n",
       "      <td>Manual</td>\n",
       "      <td>414000</td>\n",
       "      <td>1</td>\n",
       "    </tr>\n",
       "    <tr>\n",
       "      <th>4</th>\n",
       "      <td>5</td>\n",
       "      <td>Hyundai</td>\n",
       "      <td>2017</td>\n",
       "      <td>orange</td>\n",
       "      <td>hatchback</td>\n",
       "      <td>25126</td>\n",
       "      <td>1st</td>\n",
       "      <td>5</td>\n",
       "      <td>petrol</td>\n",
       "      <td>5-Speed</td>\n",
       "      <td>Manual</td>\n",
       "      <td>515000</td>\n",
       "      <td>1</td>\n",
       "    </tr>\n",
       "  </tbody>\n",
       "</table>\n",
       "</div>"
      ],
      "text/plain": [
       "   Unnamed: 0        Make  Make_Year   Color  Body_Type  Mileage_Run  \\\n",
       "0           1  Volkswagen       2017  silver      sedan        44611   \n",
       "1           2     Hyundai       2016     red  crossover        20305   \n",
       "2           3       Honda       2019   white        suv        29540   \n",
       "3           4     Renault       2017  bronze  hatchback        35680   \n",
       "4           5     Hyundai       2017  orange  hatchback        25126   \n",
       "\n",
       "  No_of_Owners  Seating_Capacity Fuel_Type Transmission Transmission_Type  \\\n",
       "0          1st                 5    diesel      7-Speed         Automatic   \n",
       "1          1st                 5    petrol      5-Speed            Manual   \n",
       "2          2nd                 5    petrol      5-Speed            Manual   \n",
       "3          1st                 5    petrol      5-Speed            Manual   \n",
       "4          1st                 5    petrol      5-Speed            Manual   \n",
       "\n",
       "    Price  New_Owners  \n",
       "0  657000           1  \n",
       "1  682000           1  \n",
       "2  793000           2  \n",
       "3  414000           1  \n",
       "4  515000           1  "
      ]
     },
     "execution_count": 19,
     "metadata": {},
     "output_type": "execute_result"
    }
   ],
   "source": [
    "# Drop outliers in Price:\n",
    "cdf = cdf.loc[df['Price']<1.5e6,:]\n",
    "\n",
    "cdf = cdf.loc[cdf['Seating_Capacity']>4,:]\n",
    "\n",
    "cdf.head()"
   ]
  },
  {
   "cell_type": "code",
   "execution_count": 20,
   "metadata": {},
   "outputs": [],
   "source": [
    "cdf = cdf.loc[cdf['Seating_Capacity']<8,:]"
   ]
  },
  {
   "cell_type": "code",
   "execution_count": 21,
   "metadata": {},
   "outputs": [
    {
     "name": "stdout",
     "output_type": "stream",
     "text": [
      "5\n"
     ]
    }
   ],
   "source": [
    "print(cdf['Seating_Capacity'].iloc[868])\n",
    "        "
   ]
  },
  {
   "cell_type": "code",
   "execution_count": 22,
   "metadata": {},
   "outputs": [
    {
     "data": {
      "text/plain": [
       "<AxesSubplot:xlabel='Make_Year', ylabel='Price'>"
      ]
     },
     "execution_count": 22,
     "metadata": {},
     "output_type": "execute_result"
    },
    {
     "data": {
      "image/png": "[encoded data removed]",
      "text/plain": [
       "<Figure size 432x288 with 1 Axes>"
      ]
     },
     "metadata": {
      "needs_background": "light"
     },
     "output_type": "display_data"
    }
   ],
   "source": [
    "sns.scatterplot(data=cdf,y='Price',x='Make_Year')"
   ]
  },
  {
   "cell_type": "code",
   "execution_count": 23,
   "metadata": {},
   "outputs": [
    {
     "data": {
      "text/plain": [
       "<AxesSubplot:xlabel='Make_Year_ihs', ylabel='Price_ihs'>"
      ]
     },
     "execution_count": 23,
     "metadata": {},
     "output_type": "execute_result"
    },
    {
     "data": {
      "image/png": "[encoded data removed]",
      "text/plain": [
       "<Figure size 432x288 with 1 Axes>"
      ]
     },
     "metadata": {
      "needs_background": "light"
     },
     "output_type": "display_data"
    }
   ],
   "source": [
    "# rescaling Price, Make_Year, Mileage_Run \n",
    "\n",
    "# Take arcsinh transformation to rescale the variables\n",
    "cdf['Price_ihs'] = np.arcsinh(cdf['Price'])\n",
    "cdf['Make_Year_ihs'] = np.arcsinh(cdf['Make_Year'])\n",
    "cdf['Mileage_Run_ihs'] = np.arcsinh(cdf['Mileage_Run'])\n",
    "sns.scatterplot(data=cdf,y='Price_ihs',x='Make_Year_ihs') \n"
   ]
  },
  {
   "cell_type": "code",
   "execution_count": 24,
   "metadata": {},
   "outputs": [
    {
     "data": {
      "text/plain": [
       "<AxesSubplot:xlabel='Mileage_Run_ihs', ylabel='Price_ihs'>"
      ]
     },
     "execution_count": 24,
     "metadata": {},
     "output_type": "execute_result"
    },
    {
     "data": {
      "image/png": "[encoded data removed]",
      "text/plain": [
       "<Figure size 432x288 with 1 Axes>"
      ]
     },
     "metadata": {
      "needs_background": "light"
     },
     "output_type": "display_data"
    }
   ],
   "source": [
    "sns.scatterplot(data=cdf,y='Price_ihs',x='Mileage_Run_ihs')"
   ]
  },
  {
   "cell_type": "code",
   "execution_count": 25,
   "metadata": {},
   "outputs": [
    {
     "data": {
      "text/html": [
       "<div>\n",
       "<style scoped>\n",
       "    .dataframe tbody tr th:only-of-type {\n",
       "        vertical-align: middle;\n",
       "    }\n",
       "\n",
       "    .dataframe tbody tr th {\n",
       "        vertical-align: top;\n",
       "    }\n",
       "\n",
       "    .dataframe thead th {\n",
       "        text-align: right;\n",
       "    }\n",
       "</style>\n",
       "<table border=\"1\" class=\"dataframe\">\n",
       "  <thead>\n",
       "    <tr style=\"text-align: right;\">\n",
       "      <th></th>\n",
       "      <th>Unnamed: 0</th>\n",
       "      <th>Make</th>\n",
       "      <th>Make_Year</th>\n",
       "      <th>Color</th>\n",
       "      <th>Body_Type</th>\n",
       "      <th>Mileage_Run</th>\n",
       "      <th>No_of_Owners</th>\n",
       "      <th>Seating_Capacity</th>\n",
       "      <th>Fuel_Type</th>\n",
       "      <th>Transmission</th>\n",
       "      <th>Transmission_Type</th>\n",
       "      <th>Price</th>\n",
       "      <th>New_Owners</th>\n",
       "      <th>Price_ihs</th>\n",
       "      <th>Make_Year_ihs</th>\n",
       "      <th>Mileage_Run_ihs</th>\n",
       "    </tr>\n",
       "  </thead>\n",
       "  <tbody>\n",
       "    <tr>\n",
       "      <th>0</th>\n",
       "      <td>1</td>\n",
       "      <td>Volkswagen</td>\n",
       "      <td>2017</td>\n",
       "      <td>silver</td>\n",
       "      <td>sedan</td>\n",
       "      <td>44611</td>\n",
       "      <td>1st</td>\n",
       "      <td>5</td>\n",
       "      <td>diesel</td>\n",
       "      <td>7-Speed</td>\n",
       "      <td>Automatic</td>\n",
       "      <td>657000</td>\n",
       "      <td>1</td>\n",
       "      <td>14.088586</td>\n",
       "      <td>8.302514</td>\n",
       "      <td>11.398883</td>\n",
       "    </tr>\n",
       "    <tr>\n",
       "      <th>1</th>\n",
       "      <td>2</td>\n",
       "      <td>Hyundai</td>\n",
       "      <td>2016</td>\n",
       "      <td>red</td>\n",
       "      <td>crossover</td>\n",
       "      <td>20305</td>\n",
       "      <td>1st</td>\n",
       "      <td>5</td>\n",
       "      <td>petrol</td>\n",
       "      <td>5-Speed</td>\n",
       "      <td>Manual</td>\n",
       "      <td>682000</td>\n",
       "      <td>1</td>\n",
       "      <td>14.125932</td>\n",
       "      <td>8.302018</td>\n",
       "      <td>10.611770</td>\n",
       "    </tr>\n",
       "    <tr>\n",
       "      <th>2</th>\n",
       "      <td>3</td>\n",
       "      <td>Honda</td>\n",
       "      <td>2019</td>\n",
       "      <td>white</td>\n",
       "      <td>suv</td>\n",
       "      <td>29540</td>\n",
       "      <td>2nd</td>\n",
       "      <td>5</td>\n",
       "      <td>petrol</td>\n",
       "      <td>5-Speed</td>\n",
       "      <td>Manual</td>\n",
       "      <td>793000</td>\n",
       "      <td>2</td>\n",
       "      <td>14.276726</td>\n",
       "      <td>8.303505</td>\n",
       "      <td>10.986648</td>\n",
       "    </tr>\n",
       "    <tr>\n",
       "      <th>3</th>\n",
       "      <td>4</td>\n",
       "      <td>Renault</td>\n",
       "      <td>2017</td>\n",
       "      <td>bronze</td>\n",
       "      <td>hatchback</td>\n",
       "      <td>35680</td>\n",
       "      <td>1st</td>\n",
       "      <td>5</td>\n",
       "      <td>petrol</td>\n",
       "      <td>5-Speed</td>\n",
       "      <td>Manual</td>\n",
       "      <td>414000</td>\n",
       "      <td>1</td>\n",
       "      <td>13.626768</td>\n",
       "      <td>8.302514</td>\n",
       "      <td>11.175493</td>\n",
       "    </tr>\n",
       "    <tr>\n",
       "      <th>4</th>\n",
       "      <td>5</td>\n",
       "      <td>Hyundai</td>\n",
       "      <td>2017</td>\n",
       "      <td>orange</td>\n",
       "      <td>hatchback</td>\n",
       "      <td>25126</td>\n",
       "      <td>1st</td>\n",
       "      <td>5</td>\n",
       "      <td>petrol</td>\n",
       "      <td>5-Speed</td>\n",
       "      <td>Manual</td>\n",
       "      <td>515000</td>\n",
       "      <td>1</td>\n",
       "      <td>13.845069</td>\n",
       "      <td>8.302514</td>\n",
       "      <td>10.824806</td>\n",
       "    </tr>\n",
       "  </tbody>\n",
       "</table>\n",
       "</div>"
      ],
      "text/plain": [
       "   Unnamed: 0        Make  Make_Year   Color  Body_Type  Mileage_Run  \\\n",
       "0           1  Volkswagen       2017  silver      sedan        44611   \n",
       "1           2     Hyundai       2016     red  crossover        20305   \n",
       "2           3       Honda       2019   white        suv        29540   \n",
       "3           4     Renault       2017  bronze  hatchback        35680   \n",
       "4           5     Hyundai       2017  orange  hatchback        25126   \n",
       "\n",
       "  No_of_Owners  Seating_Capacity Fuel_Type Transmission Transmission_Type  \\\n",
       "0          1st                 5    diesel      7-Speed         Automatic   \n",
       "1          1st                 5    petrol      5-Speed            Manual   \n",
       "2          2nd                 5    petrol      5-Speed            Manual   \n",
       "3          1st                 5    petrol      5-Speed            Manual   \n",
       "4          1st                 5    petrol      5-Speed            Manual   \n",
       "\n",
       "    Price  New_Owners  Price_ihs  Make_Year_ihs  Mileage_Run_ihs  \n",
       "0  657000           1  14.088586       8.302514        11.398883  \n",
       "1  682000           1  14.125932       8.302018        10.611770  \n",
       "2  793000           2  14.276726       8.303505        10.986648  \n",
       "3  414000           1  13.626768       8.302514        11.175493  \n",
       "4  515000           1  13.845069       8.302514        10.824806  "
      ]
     },
     "execution_count": 25,
     "metadata": {},
     "output_type": "execute_result"
    }
   ],
   "source": [
    "cdf.head()"
   ]
  },
  {
   "cell_type": "code",
   "execution_count": 26,
   "metadata": {},
   "outputs": [
    {
     "data": {
      "text/html": [
       "<div>\n",
       "<style scoped>\n",
       "    .dataframe tbody tr th:only-of-type {\n",
       "        vertical-align: middle;\n",
       "    }\n",
       "\n",
       "    .dataframe tbody tr th {\n",
       "        vertical-align: top;\n",
       "    }\n",
       "\n",
       "    .dataframe thead th {\n",
       "        text-align: right;\n",
       "    }\n",
       "</style>\n",
       "<table border=\"1\" class=\"dataframe\">\n",
       "  <thead>\n",
       "    <tr style=\"text-align: right;\">\n",
       "      <th></th>\n",
       "      <th>(Intercept)</th>\n",
       "      <th>Mileage_Run_ihs</th>\n",
       "      <th>Mileage_Run_ihs_sq</th>\n",
       "      <th>Make_Year_ihs</th>\n",
       "      <th>Make_Year_ihs_sq</th>\n",
       "    </tr>\n",
       "  </thead>\n",
       "  <tbody>\n",
       "    <tr>\n",
       "      <th>0</th>\n",
       "      <td>1</td>\n",
       "      <td>11.398883</td>\n",
       "      <td>129.934532</td>\n",
       "      <td>8.302514</td>\n",
       "      <td>68.931735</td>\n",
       "    </tr>\n",
       "    <tr>\n",
       "      <th>1</th>\n",
       "      <td>1</td>\n",
       "      <td>10.611770</td>\n",
       "      <td>112.609654</td>\n",
       "      <td>8.302018</td>\n",
       "      <td>68.923501</td>\n",
       "    </tr>\n",
       "    <tr>\n",
       "      <th>2</th>\n",
       "      <td>1</td>\n",
       "      <td>10.986648</td>\n",
       "      <td>120.706428</td>\n",
       "      <td>8.303505</td>\n",
       "      <td>68.948193</td>\n",
       "    </tr>\n",
       "    <tr>\n",
       "      <th>3</th>\n",
       "      <td>1</td>\n",
       "      <td>11.175493</td>\n",
       "      <td>124.891639</td>\n",
       "      <td>8.302514</td>\n",
       "      <td>68.931735</td>\n",
       "    </tr>\n",
       "    <tr>\n",
       "      <th>4</th>\n",
       "      <td>1</td>\n",
       "      <td>10.824806</td>\n",
       "      <td>117.176417</td>\n",
       "      <td>8.302514</td>\n",
       "      <td>68.931735</td>\n",
       "    </tr>\n",
       "  </tbody>\n",
       "</table>\n",
       "</div>"
      ],
      "text/plain": [
       "   (Intercept)  Mileage_Run_ihs  Mileage_Run_ihs_sq  Make_Year_ihs  \\\n",
       "0            1        11.398883          129.934532       8.302514   \n",
       "1            1        10.611770          112.609654       8.302018   \n",
       "2            1        10.986648          120.706428       8.303505   \n",
       "3            1        11.175493          124.891639       8.302514   \n",
       "4            1        10.824806          117.176417       8.302514   \n",
       "\n",
       "   Make_Year_ihs_sq  \n",
       "0         68.931735  \n",
       "1         68.923501  \n",
       "2         68.948193  \n",
       "3         68.931735  \n",
       "4         68.931735  "
      ]
     },
     "execution_count": 26,
     "metadata": {},
     "output_type": "execute_result"
    }
   ],
   "source": [
    "# Squaring \n",
    "\n",
    "y = cdf['Price_ihs']\n",
    "cdf['Mileage_Run_ihs_sq'] = cdf['Mileage_Run_ihs']**2\n",
    "cdf['Make_Year_ihs_sq'] = cdf['Make_Year_ihs']**2\n",
    "cdf['(Intercept)'] = 1\n",
    "vars = ['(Intercept)','Mileage_Run_ihs','Mileage_Run_ihs_sq','Make_Year_ihs','Make_Year_ihs_sq']\n",
    "X = cdf.loc[:,vars]\n",
    "X.head()"
   ]
  },
  {
   "cell_type": "markdown",
   "metadata": {},
   "source": [
    "### Part 2"
   ]
  },
  {
   "cell_type": "code",
   "execution_count": 27,
   "metadata": {},
   "outputs": [
    {
     "name": "stdout",
     "output_type": "stream",
     "text": [
      "count    9.150000e+02\n",
      "mean     6.786120e+05\n",
      "std      2.560815e+05\n",
      "min      2.370000e+05\n",
      "25%      4.650000e+05\n",
      "50%      6.510000e+05\n",
      "75%      8.380000e+05\n",
      "max      1.465000e+06\n",
      "Name: Price, dtype: float64\n",
      "\n",
      "\n"
     ]
    },
    {
     "data": {
      "image/png": "[encoded data removed]",
      "text/plain": [
       "<Figure size 432x288 with 1 Axes>"
      ]
     },
     "metadata": {
      "needs_background": "light"
     },
     "output_type": "display_data"
    }
   ],
   "source": [
    "## Summary Statistics\n",
    "summary_stats = cdf['Price'].describe()\n",
    "print(summary_stats)\n",
    "print('\\n')\n",
    "\n",
    "#  kernel density plot for Price\n",
    "\n",
    "sns.kdeplot(cdf['Price'], fill=True, color='skyblue', edgecolor='black')\n",
    "plt.xlabel('Price')\n",
    "plt.ylabel('Density')\n",
    "plt.title('Density Plot of Price')\n",
    "plt.show()\n",
    "\n"
   ]
  },
  {
   "cell_type": "code",
   "execution_count": 28,
   "metadata": {},
   "outputs": [
    {
     "name": "stdout",
     "output_type": "stream",
     "text": [
      "               count          mean           std        min        25%  \\\n",
      "Make                                                                     \n",
      "Chevrolet        6.0  4.535000e+05  2.466064e+05   267000.0   288500.0   \n",
      "Datsun           3.0  2.896667e+05  1.050397e+04   279000.0   284500.0   \n",
      "Ford            52.0  7.211731e+05  1.409277e+05   290000.0   635000.0   \n",
      "Honda           73.0  7.989726e+05  2.665091e+05   316000.0   581000.0   \n",
      "Hyundai        305.0  6.918918e+05  2.791597e+05   248000.0   485000.0   \n",
      "Jeep             4.0  1.499500e+06  1.525134e+05  1290000.0  1447500.0   \n",
      "Kia              8.0  1.614750e+06  1.190567e+05  1369000.0  1579000.0   \n",
      "MG Motors       35.0  1.869457e+06  1.216611e+05  1589000.0  1786500.0   \n",
      "Mahindra        18.0  1.100167e+06  1.755493e+05   796000.0  1037000.0   \n",
      "Maruti Suzuki  293.0  5.887850e+05  2.160199e+05   237000.0   411000.0   \n",
      "Nissan           4.0  8.842500e+05  2.895599e+05   475000.0   782500.0   \n",
      "Renault         68.0  6.625735e+05  2.148273e+05   287000.0   475000.0   \n",
      "Skoda            5.0  1.136000e+06  1.070175e+06   436000.0   466000.0   \n",
      "Tata            23.0  1.055217e+06  5.578305e+05   188000.0   779500.0   \n",
      "Toyota          50.0  8.003400e+05  2.466900e+05   368000.0   526250.0   \n",
      "Volkswagen      29.0  6.058276e+05  1.198312e+05   402000.0   542000.0   \n",
      "\n",
      "                     50%        75%        max  \n",
      "Make                                            \n",
      "Chevrolet       345500.0   537500.0   892000.0  \n",
      "Datsun          290000.0   295000.0   300000.0  \n",
      "Ford            707500.0   787000.0  1066000.0  \n",
      "Honda           785000.0   915000.0  1537000.0  \n",
      "Hyundai         638000.0   837000.0  1742000.0  \n",
      "Jeep           1529500.0  1581500.0  1649000.0  \n",
      "Kia            1628500.0  1705750.0  1741000.0  \n",
      "MG Motors      1848000.0  1978000.0  2019000.0  \n",
      "Mahindra       1094500.0  1157000.0  1465000.0  \n",
      "Maruti Suzuki   527000.0   764000.0  1163000.0  \n",
      "Nissan          978000.0  1079750.0  1106000.0  \n",
      "Renault         644000.0   801000.0  1164000.0  \n",
      "Skoda           538000.0  1299000.0  2941000.0  \n",
      "Tata            869000.0  1552000.0  2100000.0  \n",
      "Toyota          894000.0  1023000.0  1092000.0  \n",
      "Volkswagen      607000.0   699000.0   790000.0  \n"
     ]
    }
   ],
   "source": [
    "# Use .groupby() and .describe() to summarize prices by brand (Make)\n",
    "\n",
    "# Price grouped by Make\n",
    "\n",
    "Make_grouping = df.groupby('Make')['Price'].describe()\n",
    "\n",
    "print(Make_grouping)\n"
   ]
  },
  {
   "cell_type": "code",
   "execution_count": 29,
   "metadata": {},
   "outputs": [
    {
     "name": "stderr",
     "output_type": "stream",
     "text": [
      "/apps/software/standard/compiler/gcc/9.2.0/jupyter_conda/2020.11-py3.8/lib/python3.8/site-packages/seaborn/distributions.py:305: UserWarning: Dataset has 0 variance; skipping density estimate.\n",
      "  warnings.warn(msg, UserWarning)\n",
      "/apps/software/standard/compiler/gcc/9.2.0/jupyter_conda/2020.11-py3.8/lib/python3.8/site-packages/seaborn/distributions.py:305: UserWarning: Dataset has 0 variance; skipping density estimate.\n",
      "  warnings.warn(msg, UserWarning)\n"
     ]
    },
    {
     "data": {
      "image/png": "[encoded data removed]",
      "text/plain": [
       "<Figure size 432x288 with 1 Axes>"
      ]
     },
     "metadata": {
      "needs_background": "light"
     },
     "output_type": "display_data"
    },
    {
     "name": "stdout",
     "output_type": "stream",
     "text": [
      "0       657000\n",
      "1       682000\n",
      "2       793000\n",
      "3       414000\n",
      "4       515000\n",
      "        ...   \n",
      "971     956000\n",
      "972    1027000\n",
      "973     736000\n",
      "974     749000\n",
      "975     691000\n",
      "Name: Price, Length: 915, dtype: int64\n"
     ]
    }
   ],
   "source": [
    "# Make a grouped kernel density plot by Make\n",
    "\n",
    "sns.kdeplot(data=cdf, x='Price', hue='Make', fill=True)\n",
    "\n",
    "plt.xlabel('Price')\n",
    "plt.ylabel('Density')\n",
    "plt.title('Price by Make')\n",
    "\n",
    "plt.show()\n",
    "\n",
    "print(cdf['Price'])"
   ]
  },
  {
   "cell_type": "code",
   "execution_count": 30,
   "metadata": {},
   "outputs": [],
   "source": [
    "# Which car brands are the most expensive? What do prices look like in general?\n",
    "\n",
    "# Before I took the outliers out, MG motors and Kia were the most expensive car on the list. Now, Hona and \n",
    "# Hyundai seem to have the most expensive cars, given outliers have been removed. \n",
    "# In general, the price of the highest amount of cars lies around 500,000 or just above. "
   ]
  },
  {
   "cell_type": "markdown",
   "metadata": {},
   "source": [
    "## Part 3"
   ]
  },
  {
   "cell_type": "code",
   "execution_count": 79,
   "metadata": {},
   "outputs": [
    {
     "name": "stdout",
     "output_type": "stream",
     "text": [
      "Index(['Unnamed: 0', 'Make', 'Make_Year', 'Color', 'Body_Type', 'Mileage_Run',\n",
      "       'No_of_Owners', 'Seating_Capacity', 'Fuel_Type', 'Transmission',\n",
      "       'Transmission_Type', 'Price', 'New_Owners', 'Price_ihs',\n",
      "       'Make_Year_ihs', 'Mileage_Run_ihs', 'Mileage_Run_ihs_sq',\n",
      "       'Make_Year_ihs_sq', '(Intercept)'],\n",
      "      dtype='object')\n",
      "Unnamed: 0              int64\n",
      "Make                   object\n",
      "Make_Year               int64\n",
      "Color                  object\n",
      "Body_Type              object\n",
      "Mileage_Run             int64\n",
      "No_of_Owners           object\n",
      "Seating_Capacity        int64\n",
      "Fuel_Type              object\n",
      "Transmission           object\n",
      "Transmission_Type      object\n",
      "Price                   int64\n",
      "New_Owners              int64\n",
      "Price_ihs             float64\n",
      "Make_Year_ihs         float64\n",
      "Mileage_Run_ihs       float64\n",
      "Mileage_Run_ihs_sq    float64\n",
      "Make_Year_ihs_sq      float64\n",
      "(Intercept)             int64\n",
      "dtype: object\n"
     ]
    }
   ],
   "source": [
    "print(cdf.columns)\n",
    "print(cdf.dtypes)\n",
    "\n",
    "ndf = cdf.iloc[:,[2, 5,7,11,12]]"
   ]
  },
  {
   "cell_type": "code",
   "execution_count": 32,
   "metadata": {},
   "outputs": [
    {
     "name": "stdout",
     "output_type": "stream",
     "text": [
      "(732,)\n",
      "(183,)\n"
     ]
    }
   ],
   "source": [
    "## Split the data into a training and testing data\n",
    "\n",
    "from sklearn.preprocessing import MinMaxScaler\n",
    "from sklearn.model_selection import train_test_split\n",
    "\n",
    "# Assuming maxmin is MinMaxScaler\n",
    "scaler = MinMaxScaler()\n",
    "\n",
    "# Extracting numeric columns for normalization\n",
    "X = cdf.iloc[:,[14, 15,16,17]] # make_year_ihs, mileage_run_ihs, mileage_run_ihs_sq, make_year_ihs_sq\n",
    "# this is already indexing into cdf to get the numeric variables, so we don't have to indicate that below\n",
    "\n",
    "# Normalize numeric columns in X\n",
    "X_normalized = scaler.fit_transform(X)\n",
    "\n",
    "# Assuming you have a target variable named 'y'\n",
    "y = cdf['Price']  # Replace \n",
    "\n",
    "# Split the sample\n",
    "X_train, X_test, y_train, y_test = train_test_split(X_normalized, y, test_size=0.2, random_state=100)\n",
    "\n",
    "# part of this code came from chat gpt to help me split the data\n",
    "\n",
    "print(y_train.shape)\n",
    "print(y_test.shape)"
   ]
  },
  {
   "cell_type": "markdown",
   "metadata": {},
   "source": [
    "## Part 4"
   ]
  },
  {
   "cell_type": "code",
   "execution_count": 33,
   "metadata": {},
   "outputs": [
    {
     "name": "stdout",
     "output_type": "stream",
     "text": [
      "Below is my Multiple Linear Regression Model based only on Numeric Variables: \n",
      "\n",
      "   Make_Year_ihs  Mileage_Run_ihs  Mileage_Run_ihs_sq  Make_Year_ihs_sq\n",
      "0       8.302514        11.398883          129.934532         68.931735\n",
      "1       8.302018        10.611770          112.609654         68.923501\n",
      "2       8.303505        10.986648          120.706428         68.948193\n",
      "3       8.302514        11.175493          124.891639         68.931735\n",
      "4       8.302514        10.824806          117.176417         68.931735 \n",
      "\n",
      "this is the intercept value: 192268.37127825542 \n",
      "\n",
      "these are the regression coefficients: [ 1.13328336e+09 -1.82355901e+06  2.01247502e+06 -1.13262727e+09] \n",
      "\n",
      "R Squared is equal to: 0.3277184090311881 \n",
      "\n",
      "the root mean squared error is: 202948.3629725673\n"
     ]
    }
   ],
   "source": [
    "from sklearn.linear_model import LinearRegression\n",
    "import math\n",
    "from sklearn.metrics import mean_squared_error\n",
    "\n",
    "## Make a model where you regress price on the numeric variables alone; what is the  𝑅2  and RMSE on the test set?\n",
    "thing = 'Below is my Multiple Linear Regression Model based only on Numeric Variables:'\n",
    "pn(thing)\n",
    "\n",
    "vars = ['Mileage_Run_ihs','Mileage_Run_ihs_sq','Make_Year_ihs','Make_Year_ihs_sq'] # This is a list of variables to use\n",
    "\n",
    "# Construct data matrix\n",
    "pn(X.head()) # Peek at data\n",
    "\n",
    "reg = LinearRegression().fit(X_train, y_train) # Fit the linear model\n",
    "pn(f'this is the intercept value: {reg.intercept_}') # Intercept value\n",
    "pn(f'these are the regression coefficients: {reg.coef_}') # Regression coefficients\n",
    "pn(f'R Squared is equal to: {reg.score(X_train, y_train)}') # R squared measure\n",
    "\n",
    "# Predict values for the test set\n",
    "y_pred = reg.predict(X_test)\n",
    "\n",
    "y_pred1 = y_pred\n",
    "# Calculate mean squared error\n",
    "mse = mean_squared_error(y_test, y_pred1)\n",
    "\n",
    "# Calculate root mean squared error\n",
    "rmse = np.sqrt(mse)\n",
    "print(f'the root mean squared error is: {rmse}')\n"
   ]
  },
  {
   "cell_type": "code",
   "execution_count": 34,
   "metadata": {},
   "outputs": [
    {
     "data": {
      "text/html": [
       "<div>\n",
       "<style scoped>\n",
       "    .dataframe tbody tr th:only-of-type {\n",
       "        vertical-align: middle;\n",
       "    }\n",
       "\n",
       "    .dataframe tbody tr th {\n",
       "        vertical-align: top;\n",
       "    }\n",
       "\n",
       "    .dataframe thead th {\n",
       "        text-align: right;\n",
       "    }\n",
       "</style>\n",
       "<table border=\"1\" class=\"dataframe\">\n",
       "  <thead>\n",
       "    <tr style=\"text-align: right;\">\n",
       "      <th></th>\n",
       "      <th>Unnamed: 0</th>\n",
       "      <th>Make</th>\n",
       "      <th>Make_Year</th>\n",
       "      <th>Color</th>\n",
       "      <th>Body_Type</th>\n",
       "      <th>Mileage_Run</th>\n",
       "      <th>No_of_Owners</th>\n",
       "      <th>Seating_Capacity</th>\n",
       "      <th>Fuel_Type</th>\n",
       "      <th>Transmission</th>\n",
       "      <th>Transmission_Type</th>\n",
       "      <th>Price</th>\n",
       "      <th>New_Owners</th>\n",
       "      <th>Price_ihs</th>\n",
       "      <th>Make_Year_ihs</th>\n",
       "      <th>Mileage_Run_ihs</th>\n",
       "      <th>Mileage_Run_ihs_sq</th>\n",
       "      <th>Make_Year_ihs_sq</th>\n",
       "      <th>(Intercept)</th>\n",
       "    </tr>\n",
       "  </thead>\n",
       "  <tbody>\n",
       "    <tr>\n",
       "      <th>0</th>\n",
       "      <td>1</td>\n",
       "      <td>Volkswagen</td>\n",
       "      <td>2017</td>\n",
       "      <td>silver</td>\n",
       "      <td>sedan</td>\n",
       "      <td>44611</td>\n",
       "      <td>1st</td>\n",
       "      <td>5</td>\n",
       "      <td>diesel</td>\n",
       "      <td>7-Speed</td>\n",
       "      <td>Automatic</td>\n",
       "      <td>657000</td>\n",
       "      <td>1</td>\n",
       "      <td>14.088586</td>\n",
       "      <td>8.302514</td>\n",
       "      <td>11.398883</td>\n",
       "      <td>129.934532</td>\n",
       "      <td>68.931735</td>\n",
       "      <td>1</td>\n",
       "    </tr>\n",
       "    <tr>\n",
       "      <th>1</th>\n",
       "      <td>2</td>\n",
       "      <td>Hyundai</td>\n",
       "      <td>2016</td>\n",
       "      <td>red</td>\n",
       "      <td>crossover</td>\n",
       "      <td>20305</td>\n",
       "      <td>1st</td>\n",
       "      <td>5</td>\n",
       "      <td>petrol</td>\n",
       "      <td>5-Speed</td>\n",
       "      <td>Manual</td>\n",
       "      <td>682000</td>\n",
       "      <td>1</td>\n",
       "      <td>14.125932</td>\n",
       "      <td>8.302018</td>\n",
       "      <td>10.611770</td>\n",
       "      <td>112.609654</td>\n",
       "      <td>68.923501</td>\n",
       "      <td>1</td>\n",
       "    </tr>\n",
       "    <tr>\n",
       "      <th>2</th>\n",
       "      <td>3</td>\n",
       "      <td>Honda</td>\n",
       "      <td>2019</td>\n",
       "      <td>white</td>\n",
       "      <td>suv</td>\n",
       "      <td>29540</td>\n",
       "      <td>2nd</td>\n",
       "      <td>5</td>\n",
       "      <td>petrol</td>\n",
       "      <td>5-Speed</td>\n",
       "      <td>Manual</td>\n",
       "      <td>793000</td>\n",
       "      <td>2</td>\n",
       "      <td>14.276726</td>\n",
       "      <td>8.303505</td>\n",
       "      <td>10.986648</td>\n",
       "      <td>120.706428</td>\n",
       "      <td>68.948193</td>\n",
       "      <td>1</td>\n",
       "    </tr>\n",
       "    <tr>\n",
       "      <th>3</th>\n",
       "      <td>4</td>\n",
       "      <td>Renault</td>\n",
       "      <td>2017</td>\n",
       "      <td>bronze</td>\n",
       "      <td>hatchback</td>\n",
       "      <td>35680</td>\n",
       "      <td>1st</td>\n",
       "      <td>5</td>\n",
       "      <td>petrol</td>\n",
       "      <td>5-Speed</td>\n",
       "      <td>Manual</td>\n",
       "      <td>414000</td>\n",
       "      <td>1</td>\n",
       "      <td>13.626768</td>\n",
       "      <td>8.302514</td>\n",
       "      <td>11.175493</td>\n",
       "      <td>124.891639</td>\n",
       "      <td>68.931735</td>\n",
       "      <td>1</td>\n",
       "    </tr>\n",
       "    <tr>\n",
       "      <th>4</th>\n",
       "      <td>5</td>\n",
       "      <td>Hyundai</td>\n",
       "      <td>2017</td>\n",
       "      <td>orange</td>\n",
       "      <td>hatchback</td>\n",
       "      <td>25126</td>\n",
       "      <td>1st</td>\n",
       "      <td>5</td>\n",
       "      <td>petrol</td>\n",
       "      <td>5-Speed</td>\n",
       "      <td>Manual</td>\n",
       "      <td>515000</td>\n",
       "      <td>1</td>\n",
       "      <td>13.845069</td>\n",
       "      <td>8.302514</td>\n",
       "      <td>10.824806</td>\n",
       "      <td>117.176417</td>\n",
       "      <td>68.931735</td>\n",
       "      <td>1</td>\n",
       "    </tr>\n",
       "  </tbody>\n",
       "</table>\n",
       "</div>"
      ],
      "text/plain": [
       "   Unnamed: 0        Make  Make_Year   Color  Body_Type  Mileage_Run  \\\n",
       "0           1  Volkswagen       2017  silver      sedan        44611   \n",
       "1           2     Hyundai       2016     red  crossover        20305   \n",
       "2           3       Honda       2019   white        suv        29540   \n",
       "3           4     Renault       2017  bronze  hatchback        35680   \n",
       "4           5     Hyundai       2017  orange  hatchback        25126   \n",
       "\n",
       "  No_of_Owners  Seating_Capacity Fuel_Type Transmission Transmission_Type  \\\n",
       "0          1st                 5    diesel      7-Speed         Automatic   \n",
       "1          1st                 5    petrol      5-Speed            Manual   \n",
       "2          2nd                 5    petrol      5-Speed            Manual   \n",
       "3          1st                 5    petrol      5-Speed            Manual   \n",
       "4          1st                 5    petrol      5-Speed            Manual   \n",
       "\n",
       "    Price  New_Owners  Price_ihs  Make_Year_ihs  Mileage_Run_ihs  \\\n",
       "0  657000           1  14.088586       8.302514        11.398883   \n",
       "1  682000           1  14.125932       8.302018        10.611770   \n",
       "2  793000           2  14.276726       8.303505        10.986648   \n",
       "3  414000           1  13.626768       8.302514        11.175493   \n",
       "4  515000           1  13.845069       8.302514        10.824806   \n",
       "\n",
       "   Mileage_Run_ihs_sq  Make_Year_ihs_sq  (Intercept)  \n",
       "0          129.934532         68.931735            1  \n",
       "1          112.609654         68.923501            1  \n",
       "2          120.706428         68.948193            1  \n",
       "3          124.891639         68.931735            1  \n",
       "4          117.176417         68.931735            1  "
      ]
     },
     "execution_count": 34,
     "metadata": {},
     "output_type": "execute_result"
    }
   ],
   "source": [
    "cdf.head()"
   ]
  },
  {
   "cell_type": "code",
   "execution_count": 35,
   "metadata": {},
   "outputs": [
    {
     "data": {
      "text/plain": [
       "(915, 15)"
      ]
     },
     "execution_count": 35,
     "metadata": {},
     "output_type": "execute_result"
    }
   ],
   "source": [
    "## Make a second model where, for the categorical variables, make a model comprised of \n",
    "## one-hot encoded regressors/features alone, and regress price on those variables; what is the  \n",
    "## 𝑅2  and RMSE on the test set?\n",
    "\n",
    "from sklearn.preprocessing import LabelBinarizer\n",
    "one_hot_encoder = LabelBinarizer()\n",
    "\n",
    "# With Pandas:\n",
    "ddf = pd.get_dummies(cdf['Make'])\n",
    "ddf.shape"
   ]
  },
  {
   "cell_type": "code",
   "execution_count": 36,
   "metadata": {},
   "outputs": [
    {
     "name": "stdout",
     "output_type": "stream",
     "text": [
      "[[0 0 0 1 0]\n",
      " [1 0 0 0 0]\n",
      " [0 0 0 0 1]\n",
      " ...\n",
      " [0 0 0 1 0]\n",
      " [1 0 0 0 0]\n",
      " [0 1 0 0 0]]\n",
      "['crossover' 'hatchback' 'muv' 'sedan' 'suv']\n"
     ]
    },
    {
     "data": {
      "text/plain": [
       "(915, 5)"
      ]
     },
     "execution_count": 36,
     "metadata": {},
     "output_type": "execute_result"
    }
   ],
   "source": [
    "# With sklearn processing OH for 'Body_Type':\n",
    "\n",
    "boh = one_hot_encoder.fit_transform(cdf['Body_Type']) # One-hot encode the 'Make' variable\n",
    "print(boh)\n",
    "names = one_hot_encoder.classes_ # Get names of the classes\n",
    "print(names)\n",
    "\n",
    "bzdf = pd.DataFrame( data = boh, columns = names) # Create a new df for the encoded variables\n",
    "bzdf.shape"
   ]
  },
  {
   "cell_type": "code",
   "execution_count": 37,
   "metadata": {},
   "outputs": [
    {
     "name": "stdout",
     "output_type": "stream",
     "text": [
      "[[0 0 0 ... 1 0 0]\n",
      " [0 0 0 ... 0 0 0]\n",
      " [0 0 0 ... 0 1 0]\n",
      " ...\n",
      " [0 0 0 ... 1 0 0]\n",
      " [0 0 0 ... 0 1 0]\n",
      " [0 0 0 ... 1 0 0]]\n",
      "['beige' 'black' 'blue' 'bronze' 'brown' 'golden' 'green' 'grey' 'maroon'\n",
      " 'orange' 'purple' 'red' 'silver' 'white' 'yellow']\n"
     ]
    },
    {
     "data": {
      "text/plain": [
       "(915, 15)"
      ]
     },
     "execution_count": 37,
     "metadata": {},
     "output_type": "execute_result"
    }
   ],
   "source": [
    "# With sklearn processing OH for 'Body_Type':\n",
    "\n",
    "coh = one_hot_encoder.fit_transform(cdf['Color']) # One-hot encode the 'Make' variable\n",
    "print(coh)\n",
    "names = one_hot_encoder.classes_ # Get names of the classes\n",
    "print(names)\n",
    "\n",
    "czdf = pd.DataFrame( data = coh, columns = names) # Create a new df for the encoded variables\n",
    "czdf.shape"
   ]
  },
  {
   "cell_type": "code",
   "execution_count": 38,
   "metadata": {},
   "outputs": [
    {
     "name": "stdout",
     "output_type": "stream",
     "text": [
      "[[1 0 0]\n",
      " [0 1 0]\n",
      " [0 1 0]\n",
      " ...\n",
      " [0 1 0]\n",
      " [1 0 0]\n",
      " [0 1 0]]\n",
      "['diesel' 'petrol' 'petrol+cng']\n"
     ]
    },
    {
     "data": {
      "text/plain": [
       "(915, 3)"
      ]
     },
     "execution_count": 38,
     "metadata": {},
     "output_type": "execute_result"
    }
   ],
   "source": [
    "# With sklearn processing OH for 'Body_Type':\n",
    "\n",
    "foh = one_hot_encoder.fit_transform(cdf['Fuel_Type']) # One-hot encode the 'Make' variable\n",
    "print(foh)\n",
    "names = one_hot_encoder.classes_ # Get names of the classes\n",
    "print(names)\n",
    "\n",
    "fzdf = pd.DataFrame( data = foh, columns = names) # Create a new df for the encoded variables\n",
    "fzdf.shape"
   ]
  },
  {
   "cell_type": "code",
   "execution_count": 39,
   "metadata": {},
   "outputs": [
    {
     "name": "stdout",
     "output_type": "stream",
     "text": [
      "[[0 0 0 1 0]\n",
      " [0 1 0 0 0]\n",
      " [0 1 0 0 0]\n",
      " ...\n",
      " [1 0 0 0 0]\n",
      " [0 1 0 0 0]\n",
      " [0 1 0 0 0]]\n",
      "['4-Speed' '5-Speed' '6-Speed' '7-Speed' 'CVT']\n"
     ]
    },
    {
     "data": {
      "text/plain": [
       "(915, 5)"
      ]
     },
     "execution_count": 39,
     "metadata": {},
     "output_type": "execute_result"
    }
   ],
   "source": [
    "# With sklearn processing OH for 'Body_Type':\n",
    "\n",
    "toh = one_hot_encoder.fit_transform(cdf['Transmission']) # One-hot encode the 'Make' variable\n",
    "print(toh)\n",
    "names = one_hot_encoder.classes_ # Get names of the classes\n",
    "print(names)\n",
    "\n",
    "tzdf = pd.DataFrame( data = toh, columns = names) # Create a new df for the encoded variables\n",
    "tzdf.shape"
   ]
  },
  {
   "cell_type": "code",
   "execution_count": 40,
   "metadata": {},
   "outputs": [
    {
     "data": {
      "text/plain": [
       "(971, 43)"
      ]
     },
     "execution_count": 40,
     "metadata": {},
     "output_type": "execute_result"
    }
   ],
   "source": [
    "xdf = pd.concat([tzdf,fzdf,czdf,bzdf,ddf],axis=1)\n",
    "\n",
    "xdf.shape"
   ]
  },
  {
   "cell_type": "code",
   "execution_count": 41,
   "metadata": {},
   "outputs": [
    {
     "data": {
      "text/html": [
       "<div>\n",
       "<style scoped>\n",
       "    .dataframe tbody tr th:only-of-type {\n",
       "        vertical-align: middle;\n",
       "    }\n",
       "\n",
       "    .dataframe tbody tr th {\n",
       "        vertical-align: top;\n",
       "    }\n",
       "\n",
       "    .dataframe thead th {\n",
       "        text-align: right;\n",
       "    }\n",
       "</style>\n",
       "<table border=\"1\" class=\"dataframe\">\n",
       "  <thead>\n",
       "    <tr style=\"text-align: right;\">\n",
       "      <th></th>\n",
       "      <th>4-Speed</th>\n",
       "      <th>5-Speed</th>\n",
       "      <th>6-Speed</th>\n",
       "      <th>7-Speed</th>\n",
       "      <th>CVT</th>\n",
       "      <th>diesel</th>\n",
       "      <th>petrol</th>\n",
       "      <th>petrol+cng</th>\n",
       "      <th>beige</th>\n",
       "      <th>black</th>\n",
       "      <th>...</th>\n",
       "      <th>Jeep</th>\n",
       "      <th>Kia</th>\n",
       "      <th>Mahindra</th>\n",
       "      <th>Maruti Suzuki</th>\n",
       "      <th>Nissan</th>\n",
       "      <th>Renault</th>\n",
       "      <th>Skoda</th>\n",
       "      <th>Tata</th>\n",
       "      <th>Toyota</th>\n",
       "      <th>Volkswagen</th>\n",
       "    </tr>\n",
       "  </thead>\n",
       "  <tbody>\n",
       "    <tr>\n",
       "      <th>0</th>\n",
       "      <td>0.0</td>\n",
       "      <td>0.0</td>\n",
       "      <td>0.0</td>\n",
       "      <td>1.0</td>\n",
       "      <td>0.0</td>\n",
       "      <td>1.0</td>\n",
       "      <td>0.0</td>\n",
       "      <td>0.0</td>\n",
       "      <td>0.0</td>\n",
       "      <td>0.0</td>\n",
       "      <td>...</td>\n",
       "      <td>0.0</td>\n",
       "      <td>0.0</td>\n",
       "      <td>0.0</td>\n",
       "      <td>0.0</td>\n",
       "      <td>0.0</td>\n",
       "      <td>0.0</td>\n",
       "      <td>0.0</td>\n",
       "      <td>0.0</td>\n",
       "      <td>0.0</td>\n",
       "      <td>1.0</td>\n",
       "    </tr>\n",
       "    <tr>\n",
       "      <th>1</th>\n",
       "      <td>0.0</td>\n",
       "      <td>1.0</td>\n",
       "      <td>0.0</td>\n",
       "      <td>0.0</td>\n",
       "      <td>0.0</td>\n",
       "      <td>0.0</td>\n",
       "      <td>1.0</td>\n",
       "      <td>0.0</td>\n",
       "      <td>0.0</td>\n",
       "      <td>0.0</td>\n",
       "      <td>...</td>\n",
       "      <td>0.0</td>\n",
       "      <td>0.0</td>\n",
       "      <td>0.0</td>\n",
       "      <td>0.0</td>\n",
       "      <td>0.0</td>\n",
       "      <td>0.0</td>\n",
       "      <td>0.0</td>\n",
       "      <td>0.0</td>\n",
       "      <td>0.0</td>\n",
       "      <td>0.0</td>\n",
       "    </tr>\n",
       "    <tr>\n",
       "      <th>2</th>\n",
       "      <td>0.0</td>\n",
       "      <td>1.0</td>\n",
       "      <td>0.0</td>\n",
       "      <td>0.0</td>\n",
       "      <td>0.0</td>\n",
       "      <td>0.0</td>\n",
       "      <td>1.0</td>\n",
       "      <td>0.0</td>\n",
       "      <td>0.0</td>\n",
       "      <td>0.0</td>\n",
       "      <td>...</td>\n",
       "      <td>0.0</td>\n",
       "      <td>0.0</td>\n",
       "      <td>0.0</td>\n",
       "      <td>0.0</td>\n",
       "      <td>0.0</td>\n",
       "      <td>0.0</td>\n",
       "      <td>0.0</td>\n",
       "      <td>0.0</td>\n",
       "      <td>0.0</td>\n",
       "      <td>0.0</td>\n",
       "    </tr>\n",
       "    <tr>\n",
       "      <th>3</th>\n",
       "      <td>0.0</td>\n",
       "      <td>1.0</td>\n",
       "      <td>0.0</td>\n",
       "      <td>0.0</td>\n",
       "      <td>0.0</td>\n",
       "      <td>0.0</td>\n",
       "      <td>1.0</td>\n",
       "      <td>0.0</td>\n",
       "      <td>0.0</td>\n",
       "      <td>0.0</td>\n",
       "      <td>...</td>\n",
       "      <td>0.0</td>\n",
       "      <td>0.0</td>\n",
       "      <td>0.0</td>\n",
       "      <td>0.0</td>\n",
       "      <td>0.0</td>\n",
       "      <td>1.0</td>\n",
       "      <td>0.0</td>\n",
       "      <td>0.0</td>\n",
       "      <td>0.0</td>\n",
       "      <td>0.0</td>\n",
       "    </tr>\n",
       "    <tr>\n",
       "      <th>4</th>\n",
       "      <td>0.0</td>\n",
       "      <td>1.0</td>\n",
       "      <td>0.0</td>\n",
       "      <td>0.0</td>\n",
       "      <td>0.0</td>\n",
       "      <td>0.0</td>\n",
       "      <td>1.0</td>\n",
       "      <td>0.0</td>\n",
       "      <td>0.0</td>\n",
       "      <td>0.0</td>\n",
       "      <td>...</td>\n",
       "      <td>0.0</td>\n",
       "      <td>0.0</td>\n",
       "      <td>0.0</td>\n",
       "      <td>0.0</td>\n",
       "      <td>0.0</td>\n",
       "      <td>0.0</td>\n",
       "      <td>0.0</td>\n",
       "      <td>0.0</td>\n",
       "      <td>0.0</td>\n",
       "      <td>0.0</td>\n",
       "    </tr>\n",
       "  </tbody>\n",
       "</table>\n",
       "<p>5 rows × 43 columns</p>\n",
       "</div>"
      ],
      "text/plain": [
       "   4-Speed  5-Speed  6-Speed  7-Speed  CVT  diesel  petrol  petrol+cng  beige  \\\n",
       "0      0.0      0.0      0.0      1.0  0.0     1.0     0.0         0.0    0.0   \n",
       "1      0.0      1.0      0.0      0.0  0.0     0.0     1.0         0.0    0.0   \n",
       "2      0.0      1.0      0.0      0.0  0.0     0.0     1.0         0.0    0.0   \n",
       "3      0.0      1.0      0.0      0.0  0.0     0.0     1.0         0.0    0.0   \n",
       "4      0.0      1.0      0.0      0.0  0.0     0.0     1.0         0.0    0.0   \n",
       "\n",
       "   black  ...  Jeep  Kia  Mahindra  Maruti Suzuki  Nissan  Renault  Skoda  \\\n",
       "0    0.0  ...   0.0  0.0       0.0            0.0     0.0      0.0    0.0   \n",
       "1    0.0  ...   0.0  0.0       0.0            0.0     0.0      0.0    0.0   \n",
       "2    0.0  ...   0.0  0.0       0.0            0.0     0.0      0.0    0.0   \n",
       "3    0.0  ...   0.0  0.0       0.0            0.0     0.0      1.0    0.0   \n",
       "4    0.0  ...   0.0  0.0       0.0            0.0     0.0      0.0    0.0   \n",
       "\n",
       "   Tata  Toyota  Volkswagen  \n",
       "0   0.0     0.0         1.0  \n",
       "1   0.0     0.0         0.0  \n",
       "2   0.0     0.0         0.0  \n",
       "3   0.0     0.0         0.0  \n",
       "4   0.0     0.0         0.0  \n",
       "\n",
       "[5 rows x 43 columns]"
      ]
     },
     "execution_count": 41,
     "metadata": {},
     "output_type": "execute_result"
    }
   ],
   "source": [
    "ydf = xdf.iloc[:-56]\n",
    "\n",
    "ydf.head()\n",
    "\n"
   ]
  },
  {
   "cell_type": "code",
   "execution_count": 63,
   "metadata": {},
   "outputs": [],
   "source": [
    "# Separate features (X) and target variable (y)\n",
    "X = ydf.fillna(0)\n",
    "y = cdf['Price']\n",
    "\n",
    "# Split the data into training and testing sets\n",
    "X_train1, X_test1, y_train1, y_test1 = train_test_split(X, y, test_size=0.2, random_state=42)\n",
    "\n",
    "\n"
   ]
  },
  {
   "cell_type": "code",
   "execution_count": 64,
   "metadata": {},
   "outputs": [
    {
     "name": "stdout",
     "output_type": "stream",
     "text": [
      "Below is my Multiple Linear Regression Model based only on Dummy Variables: \n",
      "\n",
      "this is the intercept value: -5.107983366478153e+18 \n",
      "\n",
      "these are the regression coefficients: [-8.22739518e+17 -8.22739518e+17 -8.22739518e+17 -8.22739518e+17\n",
      " -8.22739518e+17 -1.08623676e+18 -1.08623676e+18 -1.08623676e+18\n",
      " -3.38536795e+17 -3.38536795e+17 -3.38536795e+17 -3.38536795e+17\n",
      " -3.38536795e+17 -3.38536795e+17 -3.38536795e+17 -3.38536795e+17\n",
      " -3.38536795e+17 -3.38536795e+17 -3.38536795e+17 -3.38536795e+17\n",
      " -3.38536795e+17 -3.38536795e+17 -3.38536795e+17  7.35549644e+18\n",
      "  7.35549644e+18  7.35549644e+18  7.35549644e+18  7.35549644e+18\n",
      " -9.88484245e+04 -4.35489662e+04 -4.41665492e+03  5.89029371e+04\n",
      "  3.53592184e+04  3.89280420e+04  3.17097855e+05  1.62503045e+04\n",
      "  4.43097100e+04 -1.41155874e+04  2.87356619e+04  1.34043101e+05\n",
      "  5.55217735e+04  1.51131078e+02  9.72956327e+03] \n",
      "\n",
      "R Squared is equal to: 0.5558736309727612 \n",
      "\n",
      "the root mean squared error is: 179137.73663152184\n"
     ]
    }
   ],
   "source": [
    "## Make a second model where, for the categorical variables, make a model comprised of \n",
    "## one-hot encoded regressors/features alone, and regress price on those variables; what is the  \n",
    "## 𝑅2  and RMSE on the test set?\n",
    "\n",
    "thing = 'Below is my Multiple Linear Regression Model based only on Dummy Variables:'\n",
    "pn(thing)\n",
    "\n",
    "# Construct data matrix\n",
    "# pn(ydf.head()) # Peek at data\n",
    "\n",
    "reg = LinearRegression().fit(X_train1, y_train1) # Fit the linear model\n",
    "pn(f'this is the intercept value: {reg.intercept_}') # Intercept value\n",
    "pn(f'these are the regression coefficients: {reg.coef_}') # Regression coefficients\n",
    "pn(f'R Squared is equal to: {reg.score(X_train1, y_train1)}') # R squared measure\n",
    "\n",
    "# Predict values for the test set\n",
    "y_pred = reg.predict(X_test1)\n",
    "\n",
    "# Calculate mean squared error\n",
    "mse1 = mean_squared_error(y_test1, y_pred)\n",
    "\n",
    "# Calculate root mean squared error\n",
    "rmse1 = np.sqrt(mse1)\n",
    "print(f'the root mean squared error is: {rmse1}')\n"
   ]
  },
  {
   "cell_type": "code",
   "execution_count": 44,
   "metadata": {},
   "outputs": [],
   "source": [
    "# Which model performs better on the test set?\n",
    "\n",
    "# It seems as though the categorical/dummy model performs better on the test set than does the numerical model\n",
    "# given that the R squared is higher for the dummy model and is only around .3 for the numerical model. Also, the \n",
    "# RMSE is lower for that of the categorical model, so that means that it provides a better measure of how well the\n",
    "# model predicts actual values. Overall, the second model has a better fit for both the R^2 and the RMSE.\n"
   ]
  },
  {
   "cell_type": "code",
   "execution_count": 45,
   "metadata": {},
   "outputs": [
    {
     "name": "stdout",
     "output_type": "stream",
     "text": [
      "(732, 47)\n",
      "(183, 2)\n"
     ]
    }
   ],
   "source": [
    "# Make a third model that combines all the regressors from the previous two; what is the  𝑅2  and RMSE on the test set? \n",
    "# Does the joint model perform better or worse, and by home much?\n",
    "\n",
    "## Concatenating the testing sets: \n",
    "# Split the data into training and testing sets\n",
    "X_train1, X_test1, y_train1, y_test1 = train_test_split(X, y, test_size=0.2, random_state=42)\n",
    "\n",
    "X_trai = np.hstack((X_train,X_train1))\n",
    "X_tes = np.hstack((X_test,X_test1))\n",
    "y_trai = np.stack((y_train,y_train1),axis=1)\n",
    "y_tes = np.stack((y_test,y_test1),axis=1)\n",
    "\n",
    "print(X_trai.shape)\n",
    "print(y_tes.shape)"
   ]
  },
  {
   "cell_type": "code",
   "execution_count": 46,
   "metadata": {},
   "outputs": [
    {
     "name": "stdout",
     "output_type": "stream",
     "text": [
      "(732, 47)\n",
      "(183, 47)\n",
      "(732, 2)\n",
      "(183, 2)\n"
     ]
    }
   ],
   "source": [
    "print(X_trai.shape)\n",
    "print(X_tes.shape)\n",
    "print(y_trai.shape)\n",
    "print(y_tes.shape)"
   ]
  },
  {
   "cell_type": "code",
   "execution_count": 47,
   "metadata": {},
   "outputs": [
    {
     "name": "stdout",
     "output_type": "stream",
     "text": [
      "Below is my Multiple Linear Regression Model based only on Dummy Variables: \n",
      "\n",
      "this is the intercept value: 4.825993681666014e+19 \n",
      "\n",
      "these are the regression coefficients: [ 1.03142275e+09 -1.25014938e+06  1.45600278e+06 -1.03077697e+09\n",
      " -1.66200323e+19 -1.66200323e+19 -1.66200323e+19 -1.66200323e+19\n",
      " -1.66200323e+19 -5.46874685e+19 -5.46874685e+19 -5.46874685e+19\n",
      "  1.29715434e+19  1.29715434e+19  1.29715434e+19  1.29715434e+19\n",
      "  1.29715434e+19  1.29715434e+19  1.29715434e+19  1.29715434e+19\n",
      "  1.29715434e+19  1.29715434e+19  1.29715434e+19  1.29715434e+19\n",
      "  1.29715434e+19  1.29715434e+19  1.29715434e+19  1.00760205e+19\n",
      "  1.00760205e+19  1.00760205e+19  1.00760205e+19  1.00760205e+19\n",
      " -1.54584368e+04 -7.87777801e+04 -5.82374686e+04 -2.45894851e+04\n",
      " -5.17106487e+03  4.93525184e+05  5.48428861e+04 -5.64507168e+04\n",
      " -1.21691508e+04  1.07021340e+05  2.18194510e+04 -3.60006211e+03\n",
      "  6.74278931e+04  2.62493197e+04 -3.04334189e+04] \n",
      "\n",
      "R Squared is equal to: 0.3507114630145347 \n",
      "\n",
      "the root mean squared error is: 204020.05308661322\n"
     ]
    }
   ],
   "source": [
    "thing = 'Below is my Multiple Linear Regression Model based only on Dummy Variables:'\n",
    "pn(thing)\n",
    "\n",
    "# Construct data matrix\n",
    "# pn(ydf.head()) # Peek at data\n",
    "\n",
    "reg = LinearRegression().fit(X_trai, y_train) # Fit the linear model\n",
    "pn(f'this is the intercept value: {reg.intercept_}') # Intercept value\n",
    "pn(f'these are the regression coefficients: {reg.coef_}') # Regression coefficients\n",
    "pn(f'R Squared is equal to: {reg.score(X_trai, y_train)}') # R squared measure\n",
    "\n",
    "# Predict values for the test set\n",
    "y_pred = reg.predict(X_tes)\n",
    "\n",
    "# Calculate mean squared error\n",
    "mse = mean_squared_error(y_test, y_pred)\n",
    "\n",
    "# Calculate root mean squared error\n",
    "rmse = np.sqrt(mse)\n",
    "print(f'the root mean squared error is: {rmse}')"
   ]
  },
  {
   "cell_type": "code",
   "execution_count": 48,
   "metadata": {},
   "outputs": [],
   "source": [
    "## Does the joint model perform better or worse, and by how much?\n",
    "\n",
    "# The joint model performs better than the solely numerical data, but worse than the solely categorical data. \n",
    "# It performs 3% better than the solely numerical data, and the RMSE is also higher than the solely\n",
    "# numerical model. "
   ]
  },
  {
   "cell_type": "markdown",
   "metadata": {},
   "source": [
    "## Part 5"
   ]
  },
  {
   "cell_type": "code",
   "execution_count": 49,
   "metadata": {},
   "outputs": [
    {
     "name": "stdout",
     "output_type": "stream",
     "text": [
      "R Squared is equal to: 0.64594251907447 \n",
      "\n",
      "the root mean squared error is: 1.480194045565742e+17\n"
     ]
    }
   ],
   "source": [
    "## Use the PolynomialFeatures function from sklearn to\n",
    "# expand the set of numerical variables you're using, along with the categorical variables.\n",
    "from sklearn.preprocessing import PolynomialFeatures\n",
    "\n",
    "# Expanding training data\n",
    "expander = PolynomialFeatures(degree=2,include_bias=False) # Create the expander\n",
    "Z = expander.fit_transform(X_trai) # Pass the df into the expander to get powers/interactions of x and y\n",
    "names = expander.get_feature_names_out() # Get the names of these variables\n",
    "xydf = pd.DataFrame(data=Z, columns = names) # Create a new, expanded dataframe\n",
    "xydf.head()\n",
    "\n",
    "reg = LinearRegression().fit(xydf, y_train) # Fit the linear model\n",
    "\n",
    "pn(f'R Squared is equal to: {reg.score(xydf, y_train)}') # R squared measure\n",
    "\n",
    "# Expanding testing data\n",
    "expander = PolynomialFeatures(degree=2,include_bias=False) # Create the expander\n",
    "Z = expander.fit_transform(X_tes) # Pass the df into the expander to get powers/interactions of x and y\n",
    "names = expander.get_feature_names_out() # Get the names of these variables\n",
    "txydf = pd.DataFrame(data=Z, columns = names) # Create a new, expanded dataframe\n",
    "txydf.head()\n",
    "\n",
    "# Predict values for the test set\n",
    "y_pred = reg.predict(txydf)\n",
    "\n",
    "# Calculate mean squared error\n",
    "mse = mean_squared_error(y_test, y_pred)\n",
    "\n",
    "# Calculate root mean squared error\n",
    "rmse = np.sqrt(mse)\n",
    "print(f'the root mean squared error is: {rmse}')\n"
   ]
  },
  {
   "cell_type": "code",
   "execution_count": 53,
   "metadata": {},
   "outputs": [
    {
     "name": "stdout",
     "output_type": "stream",
     "text": [
      "R Squared is equal to: 0.8816242088880419 \n",
      "\n",
      "the root mean squared error is: 2.4801739484093654e+17\n"
     ]
    }
   ],
   "source": [
    "# Expanding training data\n",
    "expander = PolynomialFeatures(degree=3,include_bias=False) # Create the expander\n",
    "Z = expander.fit_transform(X_trai) # Pass the df into the expander to get powers/interactions of x and y\n",
    "names = expander.get_feature_names_out() # Get the names of these variables\n",
    "xydf = pd.DataFrame(data=Z, columns = names) # Create a new, expanded dataframe\n",
    "xydf.head()\n",
    "\n",
    "reg = LinearRegression().fit(xydf, y_train) # Fit the linear model\n",
    "\n",
    "pn(f'R Squared is equal to: {reg.score(xydf, y_train)}') # R squared measure\n",
    "\n",
    "# Expanding testing data\n",
    "expander = PolynomialFeatures(degree=3,include_bias=False) # Create the expander\n",
    "Z = expander.fit_transform(X_tes) # Pass the df into the expander to get powers/interactions of x and y\n",
    "names = expander.get_feature_names_out() # Get the names of these variables\n",
    "txydf = pd.DataFrame(data=Z, columns = names) # Create a new, expanded dataframe\n",
    "txydf.head()\n",
    "\n",
    "# Predict values for the test set\n",
    "y_pred = reg.predict(txydf)\n",
    "\n",
    "# Calculate mean squared error\n",
    "mse = mean_squared_error(y_test, y_pred)\n",
    "\n",
    "# Calculate root mean squared error\n",
    "rmse = np.sqrt(mse)\n",
    "print(f'the root mean squared error is: {rmse}')\n"
   ]
  },
  {
   "cell_type": "code",
   "execution_count": 60,
   "metadata": {},
   "outputs": [
    {
     "name": "stdout",
     "output_type": "stream",
     "text": [
      "R Squared is equal to: 0.9994407553931184 \n",
      "\n",
      "the root mean squared error is: 1784690215818650.0\n"
     ]
    }
   ],
   "source": [
    "# Expanding training data\n",
    "expander = PolynomialFeatures(degree=4,include_bias=False) # Create the expander\n",
    "Z = expander.fit_transform(X_trai) # Pass the df into the expander to get powers/interactions of x and y\n",
    "names = expander.get_feature_names_out() # Get the names of these variables\n",
    "xydf = pd.DataFrame(data=Z, columns = names) # Create a new, expanded dataframe\n",
    "xydf.head()\n",
    "\n",
    "reg = LinearRegression().fit(xydf, y_train) # Fit the linear model\n",
    "\n",
    "pn(f'R Squared is equal to: {reg.score(xydf, y_train)}') # R squared measure\n",
    "\n",
    "# Expanding testing data\n",
    "expander = PolynomialFeatures(degree=4,include_bias=False) # Create the expander\n",
    "Z = expander.fit_transform(X_tes) # Pass the df into the expander to get powers/interactions of x and y\n",
    "names = expander.get_feature_names_out() # Get the names of these variables\n",
    "txydf = pd.DataFrame(data=Z, columns = names) # Create a new, expanded dataframe\n",
    "txydf.head()\n",
    "\n",
    "# Predict values for the test set\n",
    "y_pred = reg.predict(txydf)\n",
    "\n",
    "# Calculate mean squared error\n",
    "mse = mean_squared_error(y_test, y_pred)\n",
    "\n",
    "# Calculate root mean squared error\n",
    "rmse = np.sqrt(mse)\n",
    "print(f'the root mean squared error is: {rmse}')\n"
   ]
  },
  {
   "cell_type": "code",
   "execution_count": 54,
   "metadata": {},
   "outputs": [],
   "source": [
    "# As you increase the degree of the expansion, how do the  𝑅2  and RMSE change?\n",
    "\n",
    "# The R^2 begins to increase as the degree of expansion increases. At .999 R^2, the degree of expansion is 4. \n",
    "# however, the RMSE decreases initially by a lot, and then exponentially increases after a degree of 3 is reached. "
   ]
  },
  {
   "cell_type": "code",
   "execution_count": null,
   "metadata": {},
   "outputs": [],
   "source": [
    "# Expanding training data\n",
    "expander = PolynomialFeatures(degree=5,include_bias=False) # Create the expander\n",
    "Z = expander.fit_transform(X_trai) # Pass the df into the expander to get powers/interactions of x and y\n",
    "names = expander.get_feature_names_out() # Get the names of these variables\n",
    "xydf = pd.DataFrame(data=Z, columns = names) # Create a new, expanded dataframe\n",
    "xydf.head()\n",
    "\n",
    "reg = LinearRegression().fit(xydf, y_train) # Fit the linear model\n",
    "\n",
    "pn(f'R Squared is equal to: {reg.score(xydf, y_train)}') # R squared measure\n",
    "\n",
    "# Expanding testing data\n",
    "expander = PolynomialFeatures(degree=5,include_bias=False) # Create the expander\n",
    "Z = expander.fit_transform(X_tes) # Pass the df into the expander to get powers/interactions of x and y\n",
    "names = expander.get_feature_names_out() # Get the names of these variables\n",
    "txydf = pd.DataFrame(data=Z, columns = names) # Create a new, expanded dataframe\n",
    "txydf.head()\n",
    "\n",
    "# Predict values for the test set\n",
    "y_pred = reg.predict(txydf)\n",
    "\n",
    "# Calculate mean squared error\n",
    "mse = mean_squared_error(y_test, y_pred)\n",
    "\n",
    "# Calculate root mean squared error\n",
    "rmse = np.sqrt(mse)\n",
    "print(f'the root mean squared error is: {rmse}')\n"
   ]
  },
  {
   "cell_type": "code",
   "execution_count": 1,
   "metadata": {},
   "outputs": [],
   "source": [
    "# At what point does  𝑅2  go negative on the test set?\n",
    "\n",
    "# My jupyter is not working on degree 5, so I'm assuming that's the one where R2 goes negative on the test set. "
   ]
  },
  {
   "cell_type": "code",
   "execution_count": 2,
   "metadata": {},
   "outputs": [],
   "source": [
    "# For your best model with expanded features, what is the  𝑅2  and RMSE?\n",
    "\n",
    "# For my best model with expanded features, the degree is 4, the R2 is .99 and the RMSE is 1784690215818650.0, which still feels like\n",
    "# a very large number, but it's smaller than the degrees to the 2nd, and 3rd, which go to  e17. "
   ]
  },
  {
   "cell_type": "code",
   "execution_count": 3,
   "metadata": {},
   "outputs": [],
   "source": [
    "#  How does it compare to your best model from part 3?\n",
    "\n",
    "# The RMSE is definitely larger in this model, but the R2 is much closer to 1, which means that it is a better predictor of Price, \n",
    "# but just not explain outliers as well as the previous models. "
   ]
  },
  {
   "cell_type": "markdown",
   "metadata": {},
   "source": [
    "## Part 6"
   ]
  },
  {
   "cell_type": "code",
   "execution_count": 67,
   "metadata": {},
   "outputs": [
    {
     "name": "stdout",
     "output_type": "stream",
     "text": [
      "R Squared is equal to: 0.9994407553931184 \n",
      "\n"
     ]
    },
    {
     "data": {
      "image/png": "[encoded data removed]",
      "text/plain": [
       "<Figure size 432x288 with 1 Axes>"
      ]
     },
     "metadata": {
      "needs_background": "light"
     },
     "output_type": "display_data"
    }
   ],
   "source": [
    "# For your best model so far, determine the predicted values for the test data and plot them against the true values.\n",
    "from sklearn.linear_model import LinearRegression\n",
    "\n",
    "\n",
    "# Fit the linear model\n",
    "reg = LinearRegression().fit(xydf, y_train) # Fit the linear model\n",
    "\n",
    "pn(f'R Squared is equal to: {reg.score(xydf, y_train)}') # R squared measure\n",
    "\n",
    "# Predict values for the test set\n",
    "y_pred = reg.predict(txydf)\n",
    "\n",
    "\n",
    "# Plot true values vs predicted values\n",
    "plt.scatter(y_test1, y_pred)\n",
    "plt.plot([min(y_test), max(y_test)], [min(y_test), max(y_test)], linestyle='--', color='red', linewidth=2)  # Diagonal line for reference\n",
    "plt.xlabel('True Values')\n",
    "plt.ylabel('Predicted Values')\n",
    "plt.title('True Values vs Predicted Values')\n",
    "plt.show()\n",
    "\n",
    "# Chat gpt helped make this graph"
   ]
  },
  {
   "cell_type": "code",
   "execution_count": null,
   "metadata": {},
   "outputs": [],
   "source": [
    "# Do the predicted values and true values roughly line up along the diagonal, or not?\n",
    "\n",
    "# the predicted values do roughly line up along the diagonal. "
   ]
  },
  {
   "cell_type": "code",
   "execution_count": 70,
   "metadata": {},
   "outputs": [
    {
     "data": {
      "image/png": "[encoded data removed]",
      "text/plain": [
       "<Figure size 432x288 with 1 Axes>"
      ]
     },
     "metadata": {},
     "output_type": "display_data"
    }
   ],
   "source": [
    "# Compute the residuals/errors for the test data and create a kernel density plot.\n",
    "\n",
    "residuals = y_test - y_pred\n",
    "mse = mean_squared_error(y_test, y_pred)\n",
    "\n",
    "# Create a kernel density plot using seaborn\n",
    "sns.set(style=\"whitegrid\")\n",
    "sns.kdeplot(residuals, fill=True, color=\"skyblue\")\n",
    "\n",
    "# Add labels and title\n",
    "plt.xlabel(\"Residuals\")\n",
    "plt.ylabel(\"Density\")\n",
    "plt.title(\"Kernel Density Plot of Residuals\")\n",
    "\n",
    "# Show the plot\n",
    "plt.show()\n",
    "\n",
    "\n",
    "# chat gpt helped make this graph"
   ]
  },
  {
   "cell_type": "code",
   "execution_count": 71,
   "metadata": {},
   "outputs": [],
   "source": [
    "# Do the residuals look roughly bell-shaped around zero? Evaluate the strengths and weaknesses of your model.\n",
    "\n",
    "# The residuals look kinda bell-shaped around zero. I would say it's more pointy than bell shaped. It definitely doesn't have a regular\n",
    "# error pattern as seen in a normal gaussian curve. I think that this model does a good job of predicting most values, but it doesn't\n",
    "# regularly predict the outliers very well which is a major fall back. "
   ]
  },
  {
   "cell_type": "markdown",
   "metadata": {},
   "source": [
    "## Part 7"
   ]
  },
  {
   "cell_type": "code",
   "execution_count": null,
   "metadata": {},
   "outputs": [],
   "source": [
    "# Now, let's use a regression tree. Construct an appropriate matrix of regressors/features, and fit a tree to the data. \n",
    "\n",
    "from sklearn import tree\n",
    "\n",
    "# have to make a data frame with all the values as numerical. rip\n",
    "tree_df = pd.concat([ndf,ydf],axis=1)\n",
    "\n",
    "treedf = tree_df.iloc[:-56]\n",
    "\n",
    "print(treedf.shape)\n",
    "\n",
    "# Process data:\n",
    "y = cdf['Price']\n",
    "X = treedf.drop(['Price'], axis=1)\n",
    "\n",
    "X_train, X_test, y_train, y_test = train_test_split(X, y, test_size=0.2, random_state=42)\n",
    "\n",
    "model = tree.DecisionTreeClassifier(max_depth=10) # Fit the classifier\n",
    "cart = model.fit(X_train, y_train)\n",
    "tree.plot_tree(cart,filled=True) \n",
    "\n",
    "## Make Predictions on the Test Set\n",
    "y_hat_cart = cart.predict(X_test)\n",
    "\n",
    "# Compute performance:\n",
    "perf_cart = performance(y_test,y_hat_cart)\n",
    "print(perf_cart)\n"
   ]
  },
  {
   "cell_type": "code",
   "execution_count": null,
   "metadata": {},
   "outputs": [],
   "source": [
    "# Vary the maximum depth of the decision tree using the max_depth option (i.e. tree.DecisionTreeRegressor(max_depth=D)), \n",
    "# and compute the  𝑅2  and RMSE on the test set of a variety of depths.\n",
    "\n"
   ]
  },
  {
   "cell_type": "code",
   "execution_count": 49,
   "metadata": {},
   "outputs": [],
   "source": [
    "#  What depth tree gives the best results?\n",
    "\n"
   ]
  },
  {
   "cell_type": "markdown",
   "metadata": {},
   "source": [
    "## Part 8"
   ]
  },
  {
   "cell_type": "code",
   "execution_count": null,
   "metadata": {},
   "outputs": [],
   "source": [
    "# For your best tree, determine the predicted values for the test data, and plot them against the true values. \n",
    "\n"
   ]
  },
  {
   "cell_type": "code",
   "execution_count": null,
   "metadata": {},
   "outputs": [],
   "source": [
    "# Do the predicted values and true values line up along the diagonal, or not?\n",
    "\n"
   ]
  },
  {
   "cell_type": "code",
   "execution_count": null,
   "metadata": {},
   "outputs": [],
   "source": [
    "# Compute the residuals/errors for the test data and create a kernel density plot. \n",
    "\n"
   ]
  },
  {
   "cell_type": "code",
   "execution_count": 50,
   "metadata": {},
   "outputs": [],
   "source": [
    "# Do the residuals look roughly bell-shaped around zero?\n",
    "\n"
   ]
  },
  {
   "cell_type": "markdown",
   "metadata": {},
   "source": [
    "## Part 9"
   ]
  },
  {
   "cell_type": "code",
   "execution_count": 51,
   "metadata": {},
   "outputs": [],
   "source": [
    "# Which model --- linear model or classification and regression tree --- has better performance on the test set?\n",
    "\n"
   ]
  },
  {
   "cell_type": "code",
   "execution_count": null,
   "metadata": {},
   "outputs": [],
   "source": []
  }
 ],
 "metadata": {
  "kernelspec": {
   "display_name": "Python 3",
   "language": "python",
   "name": "python3"
  },
  "language_info": {
   "codemirror_mode": {
    "name": "ipython",
    "version": 3
   },
   "file_extension": ".py",
   "mimetype": "text/x-python",
   "name": "python",
   "nbconvert_exporter": "python",
   "pygments_lexer": "ipython3",
   "version": "3.8.8"
  }
 },
 "nbformat": 4,
 "nbformat_minor": 4
}
